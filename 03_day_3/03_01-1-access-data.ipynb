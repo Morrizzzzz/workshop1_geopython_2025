{
 "cells": [
  {
   "cell_type": "markdown",
   "id": "414f17bb-a0c3-4e8e-8731-9ff7f9212cbe",
   "metadata": {},
   "source": [
    "## Search a STAC catalog"
   ]
  },
  {
   "cell_type": "markdown",
   "id": "4f23e087",
   "metadata": {},
   "source": [
    "A number of satellites take snapshots of the Earth’s surface from space. The images recorded by these remote sensors represent a very precious data source for any activity that involves monitoring changes on Earth. Satellite imagery is typically provided in the form of geospatial raster data, with the measurements in each grid cell (“pixel”) being associated to accurate geographic coordinate information.\n",
    "\n",
    "In this episode we will explore how to access open satellite data using Python. In particular, we will consider the Sentinel-2 data collection that is hosted on Amazon Web Services (AWS). This dataset consists of multi-band optical images acquired by the constellation of two satellites from the Sentinel-2 mission and it is continuously updated with new images."
   ]
  },
  {
   "cell_type": "markdown",
   "id": "05ce615a",
   "metadata": {},
   "source": [
    "# Search for satellite imagery\n",
    "\n",
    "## The SpatioTemporal Asset Catalog (STAC) specification\n",
    "\n",
    "Current sensor resolutions and satellite revisit periods are such that terabytes of data products are added daily to the corresponding collections. Such datasets cannot be made accessible to users via full-catalog download. Therefore, space agencies and other data providers often offer access to their data catalogs through interactive Graphical User Interfaces (GUIs), see for instance the Copernicus Browser for the Sentinel missions ( https://browser.dataspace.copernicus.eu/?zoom=5&lat=50.16282&lng=20.78613&themeId=DEFAULT-THEME&visualizationUrl=U2FsdGVkX1%2B1VJvvyBdiOoVJ2VJfqwdDZ229eCeCXLEg9Nev8tdcCKmYrw7NJDeOC6I4qmI40jun%2FYiOMc5warjOLONlULsYwkcqWZfmmLhoOTfZXuZto9X3L%2B7BLkxq&datasetId=S2_L2A_CDAS&demSource3D=%22MAPZEN%22&cloudCoverage=30&dateMode=SINGLE ). Accessing data via a GUI is a nice way to explore a catalog and get familiar with its content, but it represents a heavy and error-prone task that should be avoided if carried out systematically to retrieve data.\n",
    "\n",
    "A service that offers programmatic access to the data enables users to reach the desired data in a more reliable, scalable and reproducible manner. An important element in the software interface exposed to the users, which is generally called the Application Programming Interface (API), is the use of standards. Standards, in fact, can significantly facilitate the reusability of tools and scripts across datasets and applications.\n",
    "\n",
    "The SpatioTemporal Asset Catalog (STAC) specification is an emerging standard for describing geospatial data. By organizing metadata in a form that adheres to the STAC specifications, data providers make it possible for users to access data from different missions, instruments and collections using the same set of tools."
   ]
  },
  {
   "cell_type": "markdown",
   "id": "993d026e",
   "metadata": {},
   "source": [
    "Search a STAC catalog\n",
    "\n",
    "The STAC browser is a good starting point to discover available datasets, as it provides an up-to-date list of existing STAC catalogs. From the list, let’s click on the “Earth Search” catalog, i.e. the access point to search the archive of Sentinel-2 images hosted on AWS.\n",
    "\n",
    "When opening a catalog with the STAC browser, you can access the API URL by clicking on the “Source” button on the top right of the page. By using this URL, you have access to the catalog content and, if supported by the catalog, to the functionality of searching its items. For the Earth Search STAC catalog the API URL is:\n",
    "\n",
    "\n",
    "https://stacindex.org/catalogs\n",
    "\n",
    "https://stacindex.org/catalogs/earth-search#/\n",
    "\n"
   ]
  },
  {
   "cell_type": "code",
   "execution_count": null,
   "id": "d97fb268-995e-441d-b13f-da2daad8953d",
   "metadata": {},
   "outputs": [],
   "source": [
    "api_url = 'https://earth-search.aws.element84.com/v1'"
   ]
  },
  {
   "cell_type": "markdown",
   "id": "7d97bba8",
   "metadata": {},
   "source": [
    "You can query a STAC API endpoint from Python using the pystac_client library. To do so we will first import Client from pystac_client and use the method open from the Client object:"
   ]
  },
  {
   "cell_type": "code",
   "execution_count": null,
   "id": "f82c3a1e",
   "metadata": {},
   "outputs": [],
   "source": [
    "from pystac_client import Client\n",
    "\n",
    "client = Client.open(api_url)"
   ]
  },
  {
   "cell_type": "markdown",
   "id": "8cb7e483",
   "metadata": {},
   "source": [
    "For this episode we will focus at scenes belonging to the sentinel-2-l2a collection. This dataset is useful for our case and includes Sentinel-2 data products pre-processed at level 2A (bottom-of-atmosphere reflectance).\n",
    "\n",
    "In order to see which collections are available in the provided api_url the get_collections method can be used on the Client object."
   ]
  },
  {
   "cell_type": "code",
   "execution_count": null,
   "id": "8b2ac22a",
   "metadata": {},
   "outputs": [],
   "source": [
    "collection = 'sentinel-2-l2a'  # Sentinel-2, Level 2A"
   ]
  },
  {
   "cell_type": "markdown",
   "id": "73fd5682",
   "metadata": {},
   "source": [
    "In order to get data for a specific location you can add longitude latitude coordinates (World Geodetic System 1984 EPSG:4326) in your request. In order to do so we are using the shapely library to define a geometrical point. Below we have included a point on the island of Rhodes, which is the location of interest for our case study (i.e. Longitude: 27.95 | Latitude 36.20)."
   ]
  },
  {
   "cell_type": "code",
   "execution_count": null,
   "id": "58354d57",
   "metadata": {},
   "outputs": [],
   "source": [
    "from shapely.geometry import Point\n",
    "point = Point(27.95, 36.20)  # Rhodes"
   ]
  },
  {
   "cell_type": "markdown",
   "id": "55e4feed",
   "metadata": {},
   "source": [
    "Note: at this stage, we are only dealing with metadata, so no image is going to be downloaded yet. But even metadata can be quite bulky if a large number of scenes match our search! For this reason, we limit the search by the intersection of the point (by setting the parameter intersects) and assign the collection (by setting the parameter collections). More information about the possible parameters to be set can be found in the pystac_client documentation for the Client’s search method.\n",
    "\n",
    "We now set up our search of satellite images in the following way:"
   ]
  },
  {
   "cell_type": "code",
   "execution_count": null,
   "id": "5cc0cd94-cf37-4c26-87ad-be56d70aaeb3",
   "metadata": {},
   "outputs": [],
   "source": [
    "search = client.search(\n",
    "    collections=[collection],\n",
    "    intersects=point,\n",
    ")"
   ]
  },
  {
   "cell_type": "markdown",
   "id": "c3c2b850",
   "metadata": {},
   "source": [
    "Now we submit the query in order to find out how many scenes match our search criteria with the parameters assigned above (please note that this output can be different as more data is added to the catalog to when this episode was created):"
   ]
  },
  {
   "cell_type": "code",
   "execution_count": null,
   "id": "4dcb946d-4329-42ef-b632-c7d38dcfc105",
   "metadata": {},
   "outputs": [],
   "source": [
    "search.matched()"
   ]
  },
  {
   "cell_type": "markdown",
   "id": "ef943104-e872-4d81-8d21-ab2fb18922d5",
   "metadata": {},
   "source": [
    "### Exercise: searching satellite scenes with a time filter\n",
    "\n",
    "Add a time filter to the search in order to select the only scenes recorded between 1 July and 31 August. You can find the input argument and the required syntax in the documentation of `client.search` (which you can access from Python or [online](https://pystac-client.readthedocs.io/en/stable/api.html#pystac_client.Client.search)). How many scenes do now match our search?"
   ]
  },
  {
   "cell_type": "markdown",
   "id": "d6b8b0fa",
   "metadata": {},
   "source": [
    "Now that we have added a time filter, we retrieve the metadata of the search results by calling the method item_collection:"
   ]
  },
  {
   "cell_type": "code",
   "execution_count": null,
   "id": "293df427-4f0b-4e33-9d75-533a5a4f8eaf",
   "metadata": {},
   "outputs": [],
   "source": [
    "search = client.search(\n",
    "    collections=[collection],\n",
    "    intersects=point,\n",
    "    datetime='2023-07-01/2023-08-31',\n",
    ")"
   ]
  },
  {
   "cell_type": "code",
   "execution_count": null,
   "id": "69356d0d-7b2f-405d-9908-747bd5ab408c",
   "metadata": {},
   "outputs": [],
   "source": [
    "search.matched()"
   ]
  },
  {
   "cell_type": "code",
   "execution_count": null,
   "id": "fedfeec5-ace8-4e9c-be49-822aea682543",
   "metadata": {},
   "outputs": [],
   "source": [
    "items = search.item_collection()"
   ]
  },
  {
   "cell_type": "markdown",
   "id": "f9453bb9",
   "metadata": {},
   "source": [
    "Now let us check the size using len:"
   ]
  },
  {
   "cell_type": "code",
   "execution_count": null,
   "id": "3b0b3db0-eaa1-4c1d-9151-d72f6c925542",
   "metadata": {},
   "outputs": [],
   "source": [
    "len(items)"
   ]
  },
  {
   "cell_type": "markdown",
   "id": "c6dfec8f",
   "metadata": {},
   "source": [
    "which is consistent with the number of scenes matching our search results as found with search.matched(). We can iterate over the returned items and print these to show their IDs:"
   ]
  },
  {
   "cell_type": "code",
   "execution_count": null,
   "id": "4096ce56-2965-4789-ba7c-60001bad18fe",
   "metadata": {},
   "outputs": [],
   "source": [
    "for item in items:\n",
    "    print(item)"
   ]
  },
  {
   "cell_type": "code",
   "execution_count": null,
   "id": "7c4a89fa-0238-4d94-8309-808c19c3c55b",
   "metadata": {},
   "outputs": [],
   "source": [
    "item = items[-1]\n",
    "print(item.datetime)\n",
    "print(item.geometry)\n",
    "print(item.properties)"
   ]
  },
  {
   "cell_type": "markdown",
   "id": "8ecd5b51-bb3a-4c3a-b008-66645a13caaa",
   "metadata": {},
   "source": [
    "### Exercise: searching satellite scenes using metadata filters\n",
    "\n",
    "Let's add a filter on the cloud cover to select the only scenes with less than 1% cloud coverage. How many scenes do now match our search?\n",
    "\n",
    "Hint: generic metadata filters can be implemented via the `query` input argument of `client.search`, which requires the following syntax (see [docs](https://pystac-client.readthedocs.io/en/stable/usage.html#query-extension)): `query=['<property><operator><value>']`."
   ]
  },
  {
   "cell_type": "code",
   "execution_count": null,
   "id": "40168b5d",
   "metadata": {},
   "outputs": [],
   "source": [
    "search = client.search(\n",
    "    collections=[collection],\n",
    "    intersects=point,\n",
    "    datetime='2023-07-01/2023-08-31',\n",
    "    query=['eo:cloud_cover<1']\n",
    ")"
   ]
  },
  {
   "cell_type": "code",
   "execution_count": null,
   "id": "4e9af3ee",
   "metadata": {},
   "outputs": [],
   "source": [
    "print(search.matched())"
   ]
  },
  {
   "cell_type": "code",
   "execution_count": null,
   "id": "daca0e4f-0090-4f5b-ad3d-6fcc0e02c538",
   "metadata": {},
   "outputs": [],
   "source": [
    "items = search.item_collection()"
   ]
  },
  {
   "cell_type": "code",
   "execution_count": null,
   "id": "1ba72072-9ee2-476c-ae81-d455128f65dd",
   "metadata": {},
   "outputs": [],
   "source": [
    "items.save_object('../data/output_data/rhodes_sentinel-2.json')"
   ]
  },
  {
   "cell_type": "markdown",
   "id": "37a9fe0f-4438-4156-9422-4a24c04cd8ef",
   "metadata": {},
   "source": [
    "## Access the assets"
   ]
  },
  {
   "cell_type": "markdown",
   "id": "159b652d",
   "metadata": {},
   "source": [
    "So far we have only discussed metadata - but how can one get to the actual images of a satellite scene (the “assets” in the STAC nomenclature)? These can be reached via links that are made available through the item’s attribute assets. Let’s focus on the last item in the collection: this is the oldest in time, and it thus corresponds to an image taken before the wildfires."
   ]
  },
  {
   "cell_type": "code",
   "execution_count": null,
   "id": "0e2c5a4b-9075-491c-ab96-489a78774704",
   "metadata": {},
   "outputs": [],
   "source": [
    "assets = items[0].assets  # first item's asset dictionary\n",
    "print(assets.keys())"
   ]
  },
  {
   "cell_type": "markdown",
   "id": "310deb55",
   "metadata": {},
   "source": [
    "We can print a minimal description of the available assets:"
   ]
  },
  {
   "cell_type": "code",
   "execution_count": null,
   "id": "da733b04-d010-46cc-915f-daad27eaa7b9",
   "metadata": {},
   "outputs": [],
   "source": [
    "for key, asset in assets.items():\n",
    "    print(f\"{key}: {asset.title}\")"
   ]
  },
  {
   "cell_type": "markdown",
   "id": "4c65c423",
   "metadata": {},
   "source": [
    "Among the other data files, assets include multiple raster data files (one per optical band, as acquired by the multi-spectral instrument), a thumbnail, a true-color image (“visual”), instrument metadata and scene-classification information (“SCL”). Let’s get the URL link to the thumbnail, which gives us a glimpse of the Sentinel-2 scene:"
   ]
  },
  {
   "cell_type": "code",
   "execution_count": null,
   "id": "5c722822-5d50-4747-8a60-c2031458caeb",
   "metadata": {},
   "outputs": [],
   "source": [
    "assets[\"thumbnail\"].href"
   ]
  },
  {
   "cell_type": "markdown",
   "id": "d7a36234",
   "metadata": {},
   "source": [
    "For comparison, we can check out the thumbnail of the most recent scene of the sequence considered (i.e. the first item in the item collection), which has been taken after the wildfires:"
   ]
  },
  {
   "cell_type": "code",
   "execution_count": null,
   "id": "6b2a1450-67fb-403e-80c2-fb225d7e68f7",
   "metadata": {},
   "outputs": [],
   "source": [
    "items[-1].assets['thumbnail'].href"
   ]
  },
  {
   "cell_type": "markdown",
   "id": "d8fd720c",
   "metadata": {},
   "source": [
    "From the thumbnails alone we can already observe some dark spots on the island of Rhodes at the bottom right of the image!\n",
    "\n",
    "In order to open the high-resolution satellite images and investigate the scenes in more detail, we will be using the rioxarray library. Note that this library can both work with local and remote raster data. At this moment, we will only quickly look at the functionality of this library. We will learn more about it in the next episode.\n",
    "\n",
    "Now let us focus on the red band by accessing the item red from the assets dictionary and get the Hypertext Reference (also known as URL) attribute using .href after the item selection.\n",
    "\n",
    "For now we are using rioxarray to open the raster file."
   ]
  },
  {
   "cell_type": "code",
   "execution_count": null,
   "id": "8dc8a910-db27-4b9b-a0c9-2b0b9693c2e9",
   "metadata": {},
   "outputs": [],
   "source": [
    "import rioxarray\n",
    "\n",
    "red_href = assets['red'].href\n",
    "red = rioxarray.open_rasterio(red_href)\n",
    "red.rio.to_raster('../data/output_data/red.tif', driver='COG')"
   ]
  },
  {
   "cell_type": "markdown",
   "id": "2caca46f",
   "metadata": {},
   "source": [
    "That might take a while, given there are over 10000 x 10000 = a hundred million pixels in the 10-meter NIR band. But we can take a smaller subset before downloading it. Because the raster is a COG, we can download just what we need!\n",
    "\n",
    "In order to do that, we are using rioxarray´s clip_box with which you can set a bounding box defining the area you want."
   ]
  },
  {
   "cell_type": "code",
   "execution_count": null,
   "id": "a04a183a",
   "metadata": {},
   "outputs": [],
   "source": [
    "red_subset = red.rio.clip_box(\n",
    "    minx=560900,\n",
    "    miny=3995000,\n",
    "    maxx=570900,\n",
    "    maxy=4015000\n",
    ")"
   ]
  },
  {
   "cell_type": "code",
   "execution_count": null,
   "id": "b0dc4b7a",
   "metadata": {},
   "outputs": [],
   "source": [
    "#Next, we save the subset using to_raster again.\n",
    "\n",
    "red_subset.rio.to_raster(\"../data/output_data/red_subset.tif\")"
   ]
  },
  {
   "cell_type": "markdown",
   "id": "beb55ce4-fe9f-4a9e-9146-dcad447f4895",
   "metadata": {},
   "source": [
    "## Exercise: \n",
    "\n",
    "Let's put in practice what we have learned in this episode, and search for the tile of the global [Copernicus Digital Elevation Model (DEM)](https://spacedata.copernicus.eu/collections/copernicus-digital-elevation-model) that includes the island of Rhodes. Use the same STAC endpoint and coordinates as in the previous search, but modify the searched collection (the Copernicus DEM collection has ID: \"cop-dem-glo-30\"). Extract the URL pointing to the data from the item matching your search. How does it differ from the URL you got for the satellite images?"
   ]
  },
  {
   "cell_type": "code",
   "execution_count": null,
   "id": "4d9c50ef-0232-4094-b21b-eb78e0b7f1a8",
   "metadata": {},
   "outputs": [],
   "source": [
    "search = client.search(\n",
    "    collections=['cop-dem-glo-30'],\n",
    "    intersects=point,\n",
    ")"
   ]
  },
  {
   "cell_type": "code",
   "execution_count": null,
   "id": "f2fd8f13-e64b-454a-b696-ff7b5b69703e",
   "metadata": {},
   "outputs": [],
   "source": [
    "items = search.item_collection()\n",
    "items[0].assets['data'].href"
   ]
  }
 ],
 "metadata": {
  "jupytext": {
   "main_language": "python"
  },
  "kernelspec": {
   "display_name": "geospatial",
   "language": "python",
   "name": "python3"
  },
  "language_info": {
   "codemirror_mode": {
    "name": "ipython",
    "version": 3
   },
   "file_extension": ".py",
   "mimetype": "text/x-python",
   "name": "python",
   "nbconvert_exporter": "python",
   "pygments_lexer": "ipython3",
   "version": "3.10.13"
  }
 },
 "nbformat": 4,
 "nbformat_minor": 5
}
