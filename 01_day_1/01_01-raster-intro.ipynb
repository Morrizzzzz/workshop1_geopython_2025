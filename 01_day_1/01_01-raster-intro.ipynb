{
 "cells": [
  {
   "cell_type": "markdown",
   "id": "e20c86e8",
   "metadata": {},
   "source": [
    "This notebook is based on: https://esciencecenter-digital-skills.github.io/geospatial-python/06-raster-intro.html"
   ]
  },
  {
   "cell_type": "markdown",
   "id": "b3ae34d6",
   "metadata": {},
   "source": [
    " In this episode we will dive more into raster data and focus on how to work with them. We introduce fundamental principles, python packages, metadata and raster attributes for working with this type of data. In addition, we will explore how Python handles missing and bad data values.\n",
    "\n",
    "The Python package we will use throughout this episode to handle raster data is rioxarray. This package is based on the popular rasterio (which is build upon the GDAL library) for working with raster data and xarray for working with multi-dimensional arrays.\n",
    "\n",
    "rioxarray extends xarray by providing top-level functions like the open_rasterio function to open raster datasets.\n",
    "\n",
    "It adds a set of methods to the main objects of the xarray package like the Dataset and the DataArray. These methods are made available via the rio accessor and become available from xarray objects after importing rioxarray."
   ]
  },
  {
   "cell_type": "markdown",
   "id": "cb4e7f4f",
   "metadata": {},
   "source": [
    "# Load a Raster and View Attributes\n",
    "\n",
    "To analyse the burned areas, we are interested in the red band of the satellite scene. In episode 9 we will further explain why the characteristics of that band are interesting in relation to wildfires. For now, we can load the red band using the function rioxarray.open_rasterio():"
   ]
  },
  {
   "cell_type": "code",
   "execution_count": 2,
   "id": "c2283b8d",
   "metadata": {},
   "outputs": [],
   "source": [
    "import rioxarray\n"
   ]
  },
  {
   "cell_type": "markdown",
   "id": "16327b37",
   "metadata": {},
   "source": [
    "Explain relationship rioxarray xarray rastterio pyproj and numpy.\n",
    "\n",
    "Since a lot of the functions, methods and attributes from rioxarray originate from other packages (mostly rasterio), the documentation is in some cases limited and requires a little puzzling. It is therefore recommended to foremost focus at the notebook´s functionality to use tab completion and go through the various functionalities. In addition, adding a question mark ? after every function or method offers the opportunity to see the available options.\n",
    "\n",
    "For instance if you want to understand the options for rioxarray´s open_rasterio function:"
   ]
  },
  {
   "cell_type": "code",
   "execution_count": 3,
   "id": "e3967eff",
   "metadata": {},
   "outputs": [
    {
     "name": "stdout",
     "output_type": "stream",
     "text": [
      "\u001b[1;31mSignature:\u001b[0m\n",
      "\u001b[0mrioxarray\u001b[0m\u001b[1;33m.\u001b[0m\u001b[0mopen_rasterio\u001b[0m\u001b[1;33m(\u001b[0m\u001b[1;33m\n",
      "\u001b[0m    \u001b[0mfilename\u001b[0m\u001b[1;33m:\u001b[0m \u001b[0mUnion\u001b[0m\u001b[1;33m[\u001b[0m\u001b[0mstr\u001b[0m\u001b[1;33m,\u001b[0m \u001b[0mos\u001b[0m\u001b[1;33m.\u001b[0m\u001b[0mPathLike\u001b[0m\u001b[1;33m,\u001b[0m \u001b[0mrasterio\u001b[0m\u001b[1;33m.\u001b[0m\u001b[0mio\u001b[0m\u001b[1;33m.\u001b[0m\u001b[0mDatasetReader\u001b[0m\u001b[1;33m,\u001b[0m \u001b[0mrasterio\u001b[0m\u001b[1;33m.\u001b[0m\u001b[0mvrt\u001b[0m\u001b[1;33m.\u001b[0m\u001b[0mWarpedVRT\u001b[0m\u001b[1;33m,\u001b[0m \u001b[0mrioxarray\u001b[0m\u001b[1;33m.\u001b[0m\u001b[0m_io\u001b[0m\u001b[1;33m.\u001b[0m\u001b[0mSingleBandDatasetReader\u001b[0m\u001b[1;33m]\u001b[0m\u001b[1;33m,\u001b[0m\u001b[1;33m\n",
      "\u001b[0m    \u001b[0mparse_coordinates\u001b[0m\u001b[1;33m:\u001b[0m \u001b[0mOptional\u001b[0m\u001b[1;33m[\u001b[0m\u001b[0mbool\u001b[0m\u001b[1;33m]\u001b[0m \u001b[1;33m=\u001b[0m \u001b[1;32mNone\u001b[0m\u001b[1;33m,\u001b[0m\u001b[1;33m\n",
      "\u001b[0m    \u001b[0mchunks\u001b[0m\u001b[1;33m:\u001b[0m \u001b[0mUnion\u001b[0m\u001b[1;33m[\u001b[0m\u001b[0mint\u001b[0m\u001b[1;33m,\u001b[0m \u001b[0mtuple\u001b[0m\u001b[1;33m,\u001b[0m \u001b[0mdict\u001b[0m\u001b[1;33m,\u001b[0m \u001b[0mNoneType\u001b[0m\u001b[1;33m]\u001b[0m \u001b[1;33m=\u001b[0m \u001b[1;32mNone\u001b[0m\u001b[1;33m,\u001b[0m\u001b[1;33m\n",
      "\u001b[0m    \u001b[0mcache\u001b[0m\u001b[1;33m:\u001b[0m \u001b[0mOptional\u001b[0m\u001b[1;33m[\u001b[0m\u001b[0mbool\u001b[0m\u001b[1;33m]\u001b[0m \u001b[1;33m=\u001b[0m \u001b[1;32mNone\u001b[0m\u001b[1;33m,\u001b[0m\u001b[1;33m\n",
      "\u001b[0m    \u001b[0mlock\u001b[0m\u001b[1;33m:\u001b[0m \u001b[0mOptional\u001b[0m\u001b[1;33m[\u001b[0m\u001b[0mAny\u001b[0m\u001b[1;33m]\u001b[0m \u001b[1;33m=\u001b[0m \u001b[1;32mNone\u001b[0m\u001b[1;33m,\u001b[0m\u001b[1;33m\n",
      "\u001b[0m    \u001b[0mmasked\u001b[0m\u001b[1;33m:\u001b[0m \u001b[0mbool\u001b[0m \u001b[1;33m=\u001b[0m \u001b[1;32mFalse\u001b[0m\u001b[1;33m,\u001b[0m\u001b[1;33m\n",
      "\u001b[0m    \u001b[0mmask_and_scale\u001b[0m\u001b[1;33m:\u001b[0m \u001b[0mbool\u001b[0m \u001b[1;33m=\u001b[0m \u001b[1;32mFalse\u001b[0m\u001b[1;33m,\u001b[0m\u001b[1;33m\n",
      "\u001b[0m    \u001b[0mvariable\u001b[0m\u001b[1;33m:\u001b[0m \u001b[0mUnion\u001b[0m\u001b[1;33m[\u001b[0m\u001b[0mstr\u001b[0m\u001b[1;33m,\u001b[0m \u001b[0mlist\u001b[0m\u001b[1;33m[\u001b[0m\u001b[0mstr\u001b[0m\u001b[1;33m]\u001b[0m\u001b[1;33m,\u001b[0m \u001b[0mtuple\u001b[0m\u001b[1;33m[\u001b[0m\u001b[0mstr\u001b[0m\u001b[1;33m,\u001b[0m \u001b[1;33m...\u001b[0m\u001b[1;33m]\u001b[0m\u001b[1;33m,\u001b[0m \u001b[0mNoneType\u001b[0m\u001b[1;33m]\u001b[0m \u001b[1;33m=\u001b[0m \u001b[1;32mNone\u001b[0m\u001b[1;33m,\u001b[0m\u001b[1;33m\n",
      "\u001b[0m    \u001b[0mgroup\u001b[0m\u001b[1;33m:\u001b[0m \u001b[0mUnion\u001b[0m\u001b[1;33m[\u001b[0m\u001b[0mstr\u001b[0m\u001b[1;33m,\u001b[0m \u001b[0mlist\u001b[0m\u001b[1;33m[\u001b[0m\u001b[0mstr\u001b[0m\u001b[1;33m]\u001b[0m\u001b[1;33m,\u001b[0m \u001b[0mtuple\u001b[0m\u001b[1;33m[\u001b[0m\u001b[0mstr\u001b[0m\u001b[1;33m,\u001b[0m \u001b[1;33m...\u001b[0m\u001b[1;33m]\u001b[0m\u001b[1;33m,\u001b[0m \u001b[0mNoneType\u001b[0m\u001b[1;33m]\u001b[0m \u001b[1;33m=\u001b[0m \u001b[1;32mNone\u001b[0m\u001b[1;33m,\u001b[0m\u001b[1;33m\n",
      "\u001b[0m    \u001b[0mdefault_name\u001b[0m\u001b[1;33m:\u001b[0m \u001b[0mOptional\u001b[0m\u001b[1;33m[\u001b[0m\u001b[0mstr\u001b[0m\u001b[1;33m]\u001b[0m \u001b[1;33m=\u001b[0m \u001b[1;32mNone\u001b[0m\u001b[1;33m,\u001b[0m\u001b[1;33m\n",
      "\u001b[0m    \u001b[0mdecode_times\u001b[0m\u001b[1;33m:\u001b[0m \u001b[0mbool\u001b[0m \u001b[1;33m=\u001b[0m \u001b[1;32mTrue\u001b[0m\u001b[1;33m,\u001b[0m\u001b[1;33m\n",
      "\u001b[0m    \u001b[0mdecode_timedelta\u001b[0m\u001b[1;33m:\u001b[0m \u001b[0mOptional\u001b[0m\u001b[1;33m[\u001b[0m\u001b[0mbool\u001b[0m\u001b[1;33m]\u001b[0m \u001b[1;33m=\u001b[0m \u001b[1;32mNone\u001b[0m\u001b[1;33m,\u001b[0m\u001b[1;33m\n",
      "\u001b[0m    \u001b[0mband_as_variable\u001b[0m\u001b[1;33m:\u001b[0m \u001b[0mbool\u001b[0m \u001b[1;33m=\u001b[0m \u001b[1;32mFalse\u001b[0m\u001b[1;33m,\u001b[0m\u001b[1;33m\n",
      "\u001b[0m    \u001b[1;33m**\u001b[0m\u001b[0mopen_kwargs\u001b[0m\u001b[1;33m,\u001b[0m\u001b[1;33m\n",
      "\u001b[0m\u001b[1;33m)\u001b[0m \u001b[1;33m->\u001b[0m \u001b[0mUnion\u001b[0m\u001b[1;33m[\u001b[0m\u001b[0mxarray\u001b[0m\u001b[1;33m.\u001b[0m\u001b[0mcore\u001b[0m\u001b[1;33m.\u001b[0m\u001b[0mdataset\u001b[0m\u001b[1;33m.\u001b[0m\u001b[0mDataset\u001b[0m\u001b[1;33m,\u001b[0m \u001b[0mxarray\u001b[0m\u001b[1;33m.\u001b[0m\u001b[0mcore\u001b[0m\u001b[1;33m.\u001b[0m\u001b[0mdataarray\u001b[0m\u001b[1;33m.\u001b[0m\u001b[0mDataArray\u001b[0m\u001b[1;33m,\u001b[0m \u001b[0mlist\u001b[0m\u001b[1;33m[\u001b[0m\u001b[0mxarray\u001b[0m\u001b[1;33m.\u001b[0m\u001b[0mcore\u001b[0m\u001b[1;33m.\u001b[0m\u001b[0mdataset\u001b[0m\u001b[1;33m.\u001b[0m\u001b[0mDataset\u001b[0m\u001b[1;33m]\u001b[0m\u001b[1;33m]\u001b[0m\u001b[1;33m\u001b[0m\u001b[1;33m\u001b[0m\u001b[0m\n",
      "\u001b[1;31mDocstring:\u001b[0m\n",
      "Open a file with rasterio (experimental).\n",
      "\n",
      "This should work with any file that rasterio can open (most often:\n",
      "geoTIFF). The x and y coordinates are generated automatically from the\n",
      "file's geoinformation, shifted to the center of each pixel (see\n",
      "`\"PixelIsArea\" Raster Space\n",
      "<http://web.archive.org/web/20160326194152/http://remotesensing.org/geotiff/spec/geotiff2.5.html#2.5.2>`_\n",
      "for more information).\n",
      "\n",
      ".. versionadded:: 0.13 band_as_variable\n",
      "\n",
      "Parameters\n",
      "----------\n",
      "filename: str, rasterio.io.DatasetReader, or rasterio.vrt.WarpedVRT\n",
      "    Path to the file to open. Or already open rasterio dataset.\n",
      "parse_coordinates: bool, optional\n",
      "    Whether to parse the x and y coordinates out of the file's\n",
      "    ``transform`` attribute or not. The default is to automatically\n",
      "    parse the coordinates only if they are rectilinear (1D).\n",
      "    It can be useful to set ``parse_coordinates=False``\n",
      "    if your files are very large or if you don't need the coordinates.\n",
      "chunks: int, tuple or dict, optional\n",
      "    Chunk sizes along each dimension, e.g., ``5``, ``(5, 5)`` or\n",
      "    ``{'x': 5, 'y': 5}``. If chunks is provided, it used to load the new\n",
      "    DataArray into a dask array. Chunks can also be set to\n",
      "    ``True`` or ``\"auto\"`` to choose sensible chunk sizes according to\n",
      "    ``dask.config.get(\"array.chunk-size\")``.\n",
      "cache: bool, optional\n",
      "    If True, cache data loaded from the underlying datastore in memory as\n",
      "    NumPy arrays when accessed to avoid reading from the underlying data-\n",
      "    store multiple times. Defaults to True unless you specify the `chunks`\n",
      "    argument to use dask, in which case it defaults to False.\n",
      "lock: bool or dask.utils.SerializableLock, optional\n",
      "\n",
      "    If chunks is provided, this argument is used to ensure that only one\n",
      "    thread per process is reading from a rasterio file object at a time.\n",
      "\n",
      "    By default and when a lock instance is provided,\n",
      "    a :class:`xarray.backends.CachingFileManager` is used to cache File objects.\n",
      "    Since rasterio also caches some data, this will make repeated reads from the\n",
      "    same object fast.\n",
      "\n",
      "    When ``lock=False``, no lock is used, allowing for completely parallel reads\n",
      "    from multiple threads or processes. However, a new file handle is opened on\n",
      "    each request.\n",
      "\n",
      "masked: bool, optional\n",
      "    If True, read the mask and set values to NaN. Defaults to False.\n",
      "mask_and_scale: bool, default=False\n",
      "    Lazily scale (using the `scales` and `offsets` from rasterio) and mask.\n",
      "    If the _Unsigned attribute is present treat integer arrays as unsigned.\n",
      "variable: str or list or tuple, optional\n",
      "    Variable name or names to use to filter loading.\n",
      "group: str or list or tuple, optional\n",
      "    Group name or names to use to filter loading.\n",
      "default_name: str, optional\n",
      "    The name of the data array if none exists. Default is None.\n",
      "decode_times: bool, default=True\n",
      "    If True, decode times encoded in the standard NetCDF datetime format\n",
      "    into datetime objects. Otherwise, leave them encoded as numbers.\n",
      "decode_timedelta: bool, optional\n",
      "    If True, decode variables and coordinates with time units in\n",
      "    {“days”, “hours”, “minutes”, “seconds”, “milliseconds”, “microseconds”}\n",
      "    into timedelta objects. If False, leave them encoded as numbers.\n",
      "    If None (default), assume the same value of decode_time.\n",
      "band_as_variable: bool, default=False\n",
      "    If True, will load bands in a raster to separate variables.\n",
      "**open_kwargs: kwargs, optional\n",
      "    Optional keyword arguments to pass into :func:`rasterio.open`.\n",
      "\n",
      "Returns\n",
      "-------\n",
      ":obj:`xarray.Dataset` | :obj:`xarray.DataArray` | list[:obj:`xarray.Dataset`]:\n",
      "    The newly created dataset(s).\n",
      "\u001b[1;31mFile:\u001b[0m      c:\\miniconda3\\envs\\geospatial\\lib\\site-packages\\rioxarray\\_io.py\n",
      "\u001b[1;31mType:\u001b[0m      function"
     ]
    }
   ],
   "source": [
    "rioxarray.open_rasterio?"
   ]
  },
  {
   "cell_type": "code",
   "execution_count": 4,
   "id": "157aaabd",
   "metadata": {},
   "outputs": [],
   "source": [
    "red = rioxarray.open_rasterio('../data/input_data/sentinel2/red.tif')"
   ]
  },
  {
   "cell_type": "code",
   "execution_count": 5,
   "id": "917eb250-3336-4267-8627-3086e1c77e95",
   "metadata": {},
   "outputs": [
    {
     "data": {
      "text/html": [
       "<div><svg style=\"position: absolute; width: 0; height: 0; overflow: hidden\">\n",
       "<defs>\n",
       "<symbol id=\"icon-database\" viewBox=\"0 0 32 32\">\n",
       "<path d=\"M16 0c-8.837 0-16 2.239-16 5v4c0 2.761 7.163 5 16 5s16-2.239 16-5v-4c0-2.761-7.163-5-16-5z\"></path>\n",
       "<path d=\"M16 17c-8.837 0-16-2.239-16-5v6c0 2.761 7.163 5 16 5s16-2.239 16-5v-6c0 2.761-7.163 5-16 5z\"></path>\n",
       "<path d=\"M16 26c-8.837 0-16-2.239-16-5v6c0 2.761 7.163 5 16 5s16-2.239 16-5v-6c0 2.761-7.163 5-16 5z\"></path>\n",
       "</symbol>\n",
       "<symbol id=\"icon-file-text2\" viewBox=\"0 0 32 32\">\n",
       "<path d=\"M28.681 7.159c-0.694-0.947-1.662-2.053-2.724-3.116s-2.169-2.030-3.116-2.724c-1.612-1.182-2.393-1.319-2.841-1.319h-15.5c-1.378 0-2.5 1.121-2.5 2.5v27c0 1.378 1.122 2.5 2.5 2.5h23c1.378 0 2.5-1.122 2.5-2.5v-19.5c0-0.448-0.137-1.23-1.319-2.841zM24.543 5.457c0.959 0.959 1.712 1.825 2.268 2.543h-4.811v-4.811c0.718 0.556 1.584 1.309 2.543 2.268zM28 29.5c0 0.271-0.229 0.5-0.5 0.5h-23c-0.271 0-0.5-0.229-0.5-0.5v-27c0-0.271 0.229-0.5 0.5-0.5 0 0 15.499-0 15.5 0v7c0 0.552 0.448 1 1 1h7v19.5z\"></path>\n",
       "<path d=\"M23 26h-14c-0.552 0-1-0.448-1-1s0.448-1 1-1h14c0.552 0 1 0.448 1 1s-0.448 1-1 1z\"></path>\n",
       "<path d=\"M23 22h-14c-0.552 0-1-0.448-1-1s0.448-1 1-1h14c0.552 0 1 0.448 1 1s-0.448 1-1 1z\"></path>\n",
       "<path d=\"M23 18h-14c-0.552 0-1-0.448-1-1s0.448-1 1-1h14c0.552 0 1 0.448 1 1s-0.448 1-1 1z\"></path>\n",
       "</symbol>\n",
       "</defs>\n",
       "</svg>\n",
       "<style>/* CSS stylesheet for displaying xarray objects in jupyterlab.\n",
       " *\n",
       " */\n",
       "\n",
       ":root {\n",
       "  --xr-font-color0: var(--jp-content-font-color0, rgba(0, 0, 0, 1));\n",
       "  --xr-font-color2: var(--jp-content-font-color2, rgba(0, 0, 0, 0.54));\n",
       "  --xr-font-color3: var(--jp-content-font-color3, rgba(0, 0, 0, 0.38));\n",
       "  --xr-border-color: var(--jp-border-color2, #e0e0e0);\n",
       "  --xr-disabled-color: var(--jp-layout-color3, #bdbdbd);\n",
       "  --xr-background-color: var(--jp-layout-color0, white);\n",
       "  --xr-background-color-row-even: var(--jp-layout-color1, white);\n",
       "  --xr-background-color-row-odd: var(--jp-layout-color2, #eeeeee);\n",
       "}\n",
       "\n",
       "html[theme=dark],\n",
       "body[data-theme=dark],\n",
       "body.vscode-dark {\n",
       "  --xr-font-color0: rgba(255, 255, 255, 1);\n",
       "  --xr-font-color2: rgba(255, 255, 255, 0.54);\n",
       "  --xr-font-color3: rgba(255, 255, 255, 0.38);\n",
       "  --xr-border-color: #1F1F1F;\n",
       "  --xr-disabled-color: #515151;\n",
       "  --xr-background-color: #111111;\n",
       "  --xr-background-color-row-even: #111111;\n",
       "  --xr-background-color-row-odd: #313131;\n",
       "}\n",
       "\n",
       ".xr-wrap {\n",
       "  display: block !important;\n",
       "  min-width: 300px;\n",
       "  max-width: 700px;\n",
       "}\n",
       "\n",
       ".xr-text-repr-fallback {\n",
       "  /* fallback to plain text repr when CSS is not injected (untrusted notebook) */\n",
       "  display: none;\n",
       "}\n",
       "\n",
       ".xr-header {\n",
       "  padding-top: 6px;\n",
       "  padding-bottom: 6px;\n",
       "  margin-bottom: 4px;\n",
       "  border-bottom: solid 1px var(--xr-border-color);\n",
       "}\n",
       "\n",
       ".xr-header > div,\n",
       ".xr-header > ul {\n",
       "  display: inline;\n",
       "  margin-top: 0;\n",
       "  margin-bottom: 0;\n",
       "}\n",
       "\n",
       ".xr-obj-type,\n",
       ".xr-array-name {\n",
       "  margin-left: 2px;\n",
       "  margin-right: 10px;\n",
       "}\n",
       "\n",
       ".xr-obj-type {\n",
       "  color: var(--xr-font-color2);\n",
       "}\n",
       "\n",
       ".xr-sections {\n",
       "  padding-left: 0 !important;\n",
       "  display: grid;\n",
       "  grid-template-columns: 150px auto auto 1fr 20px 20px;\n",
       "}\n",
       "\n",
       ".xr-section-item {\n",
       "  display: contents;\n",
       "}\n",
       "\n",
       ".xr-section-item input {\n",
       "  display: none;\n",
       "}\n",
       "\n",
       ".xr-section-item input + label {\n",
       "  color: var(--xr-disabled-color);\n",
       "}\n",
       "\n",
       ".xr-section-item input:enabled + label {\n",
       "  cursor: pointer;\n",
       "  color: var(--xr-font-color2);\n",
       "}\n",
       "\n",
       ".xr-section-item input:enabled + label:hover {\n",
       "  color: var(--xr-font-color0);\n",
       "}\n",
       "\n",
       ".xr-section-summary {\n",
       "  grid-column: 1;\n",
       "  color: var(--xr-font-color2);\n",
       "  font-weight: 500;\n",
       "}\n",
       "\n",
       ".xr-section-summary > span {\n",
       "  display: inline-block;\n",
       "  padding-left: 0.5em;\n",
       "}\n",
       "\n",
       ".xr-section-summary-in:disabled + label {\n",
       "  color: var(--xr-font-color2);\n",
       "}\n",
       "\n",
       ".xr-section-summary-in + label:before {\n",
       "  display: inline-block;\n",
       "  content: '►';\n",
       "  font-size: 11px;\n",
       "  width: 15px;\n",
       "  text-align: center;\n",
       "}\n",
       "\n",
       ".xr-section-summary-in:disabled + label:before {\n",
       "  color: var(--xr-disabled-color);\n",
       "}\n",
       "\n",
       ".xr-section-summary-in:checked + label:before {\n",
       "  content: '▼';\n",
       "}\n",
       "\n",
       ".xr-section-summary-in:checked + label > span {\n",
       "  display: none;\n",
       "}\n",
       "\n",
       ".xr-section-summary,\n",
       ".xr-section-inline-details {\n",
       "  padding-top: 4px;\n",
       "  padding-bottom: 4px;\n",
       "}\n",
       "\n",
       ".xr-section-inline-details {\n",
       "  grid-column: 2 / -1;\n",
       "}\n",
       "\n",
       ".xr-section-details {\n",
       "  display: none;\n",
       "  grid-column: 1 / -1;\n",
       "  margin-bottom: 5px;\n",
       "}\n",
       "\n",
       ".xr-section-summary-in:checked ~ .xr-section-details {\n",
       "  display: contents;\n",
       "}\n",
       "\n",
       ".xr-array-wrap {\n",
       "  grid-column: 1 / -1;\n",
       "  display: grid;\n",
       "  grid-template-columns: 20px auto;\n",
       "}\n",
       "\n",
       ".xr-array-wrap > label {\n",
       "  grid-column: 1;\n",
       "  vertical-align: top;\n",
       "}\n",
       "\n",
       ".xr-preview {\n",
       "  color: var(--xr-font-color3);\n",
       "}\n",
       "\n",
       ".xr-array-preview,\n",
       ".xr-array-data {\n",
       "  padding: 0 5px !important;\n",
       "  grid-column: 2;\n",
       "}\n",
       "\n",
       ".xr-array-data,\n",
       ".xr-array-in:checked ~ .xr-array-preview {\n",
       "  display: none;\n",
       "}\n",
       "\n",
       ".xr-array-in:checked ~ .xr-array-data,\n",
       ".xr-array-preview {\n",
       "  display: inline-block;\n",
       "}\n",
       "\n",
       ".xr-dim-list {\n",
       "  display: inline-block !important;\n",
       "  list-style: none;\n",
       "  padding: 0 !important;\n",
       "  margin: 0;\n",
       "}\n",
       "\n",
       ".xr-dim-list li {\n",
       "  display: inline-block;\n",
       "  padding: 0;\n",
       "  margin: 0;\n",
       "}\n",
       "\n",
       ".xr-dim-list:before {\n",
       "  content: '(';\n",
       "}\n",
       "\n",
       ".xr-dim-list:after {\n",
       "  content: ')';\n",
       "}\n",
       "\n",
       ".xr-dim-list li:not(:last-child):after {\n",
       "  content: ',';\n",
       "  padding-right: 5px;\n",
       "}\n",
       "\n",
       ".xr-has-index {\n",
       "  font-weight: bold;\n",
       "}\n",
       "\n",
       ".xr-var-list,\n",
       ".xr-var-item {\n",
       "  display: contents;\n",
       "}\n",
       "\n",
       ".xr-var-item > div,\n",
       ".xr-var-item label,\n",
       ".xr-var-item > .xr-var-name span {\n",
       "  background-color: var(--xr-background-color-row-even);\n",
       "  margin-bottom: 0;\n",
       "}\n",
       "\n",
       ".xr-var-item > .xr-var-name:hover span {\n",
       "  padding-right: 5px;\n",
       "}\n",
       "\n",
       ".xr-var-list > li:nth-child(odd) > div,\n",
       ".xr-var-list > li:nth-child(odd) > label,\n",
       ".xr-var-list > li:nth-child(odd) > .xr-var-name span {\n",
       "  background-color: var(--xr-background-color-row-odd);\n",
       "}\n",
       "\n",
       ".xr-var-name {\n",
       "  grid-column: 1;\n",
       "}\n",
       "\n",
       ".xr-var-dims {\n",
       "  grid-column: 2;\n",
       "}\n",
       "\n",
       ".xr-var-dtype {\n",
       "  grid-column: 3;\n",
       "  text-align: right;\n",
       "  color: var(--xr-font-color2);\n",
       "}\n",
       "\n",
       ".xr-var-preview {\n",
       "  grid-column: 4;\n",
       "}\n",
       "\n",
       ".xr-index-preview {\n",
       "  grid-column: 2 / 5;\n",
       "  color: var(--xr-font-color2);\n",
       "}\n",
       "\n",
       ".xr-var-name,\n",
       ".xr-var-dims,\n",
       ".xr-var-dtype,\n",
       ".xr-preview,\n",
       ".xr-attrs dt {\n",
       "  white-space: nowrap;\n",
       "  overflow: hidden;\n",
       "  text-overflow: ellipsis;\n",
       "  padding-right: 10px;\n",
       "}\n",
       "\n",
       ".xr-var-name:hover,\n",
       ".xr-var-dims:hover,\n",
       ".xr-var-dtype:hover,\n",
       ".xr-attrs dt:hover {\n",
       "  overflow: visible;\n",
       "  width: auto;\n",
       "  z-index: 1;\n",
       "}\n",
       "\n",
       ".xr-var-attrs,\n",
       ".xr-var-data,\n",
       ".xr-index-data {\n",
       "  display: none;\n",
       "  background-color: var(--xr-background-color) !important;\n",
       "  padding-bottom: 5px !important;\n",
       "}\n",
       "\n",
       ".xr-var-attrs-in:checked ~ .xr-var-attrs,\n",
       ".xr-var-data-in:checked ~ .xr-var-data,\n",
       ".xr-index-data-in:checked ~ .xr-index-data {\n",
       "  display: block;\n",
       "}\n",
       "\n",
       ".xr-var-data > table {\n",
       "  float: right;\n",
       "}\n",
       "\n",
       ".xr-var-name span,\n",
       ".xr-var-data,\n",
       ".xr-index-name div,\n",
       ".xr-index-data,\n",
       ".xr-attrs {\n",
       "  padding-left: 25px !important;\n",
       "}\n",
       "\n",
       ".xr-attrs,\n",
       ".xr-var-attrs,\n",
       ".xr-var-data,\n",
       ".xr-index-data {\n",
       "  grid-column: 1 / -1;\n",
       "}\n",
       "\n",
       "dl.xr-attrs {\n",
       "  padding: 0;\n",
       "  margin: 0;\n",
       "  display: grid;\n",
       "  grid-template-columns: 125px auto;\n",
       "}\n",
       "\n",
       ".xr-attrs dt,\n",
       ".xr-attrs dd {\n",
       "  padding: 0;\n",
       "  margin: 0;\n",
       "  float: left;\n",
       "  padding-right: 10px;\n",
       "  width: auto;\n",
       "}\n",
       "\n",
       ".xr-attrs dt {\n",
       "  font-weight: normal;\n",
       "  grid-column: 1;\n",
       "}\n",
       "\n",
       ".xr-attrs dt:hover span {\n",
       "  display: inline-block;\n",
       "  background: var(--xr-background-color);\n",
       "  padding-right: 10px;\n",
       "}\n",
       "\n",
       ".xr-attrs dd {\n",
       "  grid-column: 2;\n",
       "  white-space: pre-wrap;\n",
       "  word-break: break-all;\n",
       "}\n",
       "\n",
       ".xr-icon-database,\n",
       ".xr-icon-file-text2,\n",
       ".xr-no-icon {\n",
       "  display: inline-block;\n",
       "  vertical-align: middle;\n",
       "  width: 1em;\n",
       "  height: 1.5em !important;\n",
       "  stroke-width: 0;\n",
       "  stroke: currentColor;\n",
       "  fill: currentColor;\n",
       "}\n",
       "</style><pre class='xr-text-repr-fallback'>&lt;xarray.DataArray (band: 1, y: 10980, x: 10980)&gt; Size: 241MB\n",
       "[120560400 values with dtype=uint16]\n",
       "Coordinates:\n",
       "  * band         (band) int32 4B 1\n",
       "  * x            (x) float64 88kB 5e+05 5e+05 5e+05 ... 6.098e+05 6.098e+05\n",
       "  * y            (y) float64 88kB 4.1e+06 4.1e+06 4.1e+06 ... 3.99e+06 3.99e+06\n",
       "    spatial_ref  int32 4B 0\n",
       "Attributes:\n",
       "    AREA_OR_POINT:       Area\n",
       "    OVR_RESAMPLING_ALG:  AVERAGE\n",
       "    _FillValue:          0\n",
       "    scale_factor:        1.0\n",
       "    add_offset:          0.0</pre><div class='xr-wrap' style='display:none'><div class='xr-header'><div class='xr-obj-type'>xarray.DataArray</div><div class='xr-array-name'></div><ul class='xr-dim-list'><li><span class='xr-has-index'>band</span>: 1</li><li><span class='xr-has-index'>y</span>: 10980</li><li><span class='xr-has-index'>x</span>: 10980</li></ul></div><ul class='xr-sections'><li class='xr-section-item'><div class='xr-array-wrap'><input id='section-2f833220-a702-44a5-87c5-ad883fb6a799' class='xr-array-in' type='checkbox' checked><label for='section-2f833220-a702-44a5-87c5-ad883fb6a799' title='Show/hide data repr'><svg class='icon xr-icon-database'><use xlink:href='#icon-database'></use></svg></label><div class='xr-array-preview xr-preview'><span>...</span></div><div class='xr-array-data'><pre>[120560400 values with dtype=uint16]</pre></div></div></li><li class='xr-section-item'><input id='section-364656ea-bb09-47d6-925f-e13ec391d243' class='xr-section-summary-in' type='checkbox'  checked><label for='section-364656ea-bb09-47d6-925f-e13ec391d243' class='xr-section-summary' >Coordinates: <span>(4)</span></label><div class='xr-section-inline-details'></div><div class='xr-section-details'><ul class='xr-var-list'><li class='xr-var-item'><div class='xr-var-name'><span class='xr-has-index'>band</span></div><div class='xr-var-dims'>(band)</div><div class='xr-var-dtype'>int32</div><div class='xr-var-preview xr-preview'>1</div><input id='attrs-974f51e4-344d-4dad-aa3a-4c874bfe9678' class='xr-var-attrs-in' type='checkbox' disabled><label for='attrs-974f51e4-344d-4dad-aa3a-4c874bfe9678' title='Show/Hide attributes'><svg class='icon xr-icon-file-text2'><use xlink:href='#icon-file-text2'></use></svg></label><input id='data-d4d420e6-8881-4013-a74a-50bf31b077fc' class='xr-var-data-in' type='checkbox'><label for='data-d4d420e6-8881-4013-a74a-50bf31b077fc' title='Show/Hide data repr'><svg class='icon xr-icon-database'><use xlink:href='#icon-database'></use></svg></label><div class='xr-var-attrs'><dl class='xr-attrs'></dl></div><div class='xr-var-data'><pre>array([1])</pre></div></li><li class='xr-var-item'><div class='xr-var-name'><span class='xr-has-index'>x</span></div><div class='xr-var-dims'>(x)</div><div class='xr-var-dtype'>float64</div><div class='xr-var-preview xr-preview'>5e+05 5e+05 ... 6.098e+05 6.098e+05</div><input id='attrs-bc3359f8-7dcf-4393-a8ec-6530c69136dd' class='xr-var-attrs-in' type='checkbox' disabled><label for='attrs-bc3359f8-7dcf-4393-a8ec-6530c69136dd' title='Show/Hide attributes'><svg class='icon xr-icon-file-text2'><use xlink:href='#icon-file-text2'></use></svg></label><input id='data-5ff0aabc-8306-4cf3-94af-2d84b0a19541' class='xr-var-data-in' type='checkbox'><label for='data-5ff0aabc-8306-4cf3-94af-2d84b0a19541' title='Show/Hide data repr'><svg class='icon xr-icon-database'><use xlink:href='#icon-database'></use></svg></label><div class='xr-var-attrs'><dl class='xr-attrs'></dl></div><div class='xr-var-data'><pre>array([499985., 499995., 500005., ..., 609755., 609765., 609775.])</pre></div></li><li class='xr-var-item'><div class='xr-var-name'><span class='xr-has-index'>y</span></div><div class='xr-var-dims'>(y)</div><div class='xr-var-dtype'>float64</div><div class='xr-var-preview xr-preview'>4.1e+06 4.1e+06 ... 3.99e+06</div><input id='attrs-23703175-143d-4928-ad74-a5f736569888' class='xr-var-attrs-in' type='checkbox' disabled><label for='attrs-23703175-143d-4928-ad74-a5f736569888' title='Show/Hide attributes'><svg class='icon xr-icon-file-text2'><use xlink:href='#icon-file-text2'></use></svg></label><input id='data-c4720565-5751-41bc-be44-76a0dc2ece98' class='xr-var-data-in' type='checkbox'><label for='data-c4720565-5751-41bc-be44-76a0dc2ece98' title='Show/Hide data repr'><svg class='icon xr-icon-database'><use xlink:href='#icon-database'></use></svg></label><div class='xr-var-attrs'><dl class='xr-attrs'></dl></div><div class='xr-var-data'><pre>array([4100035., 4100025., 4100015., ..., 3990265., 3990255., 3990245.])</pre></div></li><li class='xr-var-item'><div class='xr-var-name'><span>spatial_ref</span></div><div class='xr-var-dims'>()</div><div class='xr-var-dtype'>int32</div><div class='xr-var-preview xr-preview'>0</div><input id='attrs-7a983ec8-f656-4efa-b6e3-b01a3bcde458' class='xr-var-attrs-in' type='checkbox' ><label for='attrs-7a983ec8-f656-4efa-b6e3-b01a3bcde458' title='Show/Hide attributes'><svg class='icon xr-icon-file-text2'><use xlink:href='#icon-file-text2'></use></svg></label><input id='data-54b4e781-6c42-4541-9694-9b53c83fa021' class='xr-var-data-in' type='checkbox'><label for='data-54b4e781-6c42-4541-9694-9b53c83fa021' title='Show/Hide data repr'><svg class='icon xr-icon-database'><use xlink:href='#icon-database'></use></svg></label><div class='xr-var-attrs'><dl class='xr-attrs'><dt><span>crs_wkt :</span></dt><dd>PROJCS[&quot;WGS 84 / UTM zone 35N&quot;,GEOGCS[&quot;WGS 84&quot;,DATUM[&quot;WGS_1984&quot;,SPHEROID[&quot;WGS 84&quot;,6378137,298.257223563,AUTHORITY[&quot;EPSG&quot;,&quot;7030&quot;]],AUTHORITY[&quot;EPSG&quot;,&quot;6326&quot;]],PRIMEM[&quot;Greenwich&quot;,0,AUTHORITY[&quot;EPSG&quot;,&quot;8901&quot;]],UNIT[&quot;degree&quot;,0.0174532925199433,AUTHORITY[&quot;EPSG&quot;,&quot;9122&quot;]],AUTHORITY[&quot;EPSG&quot;,&quot;4326&quot;]],PROJECTION[&quot;Transverse_Mercator&quot;],PARAMETER[&quot;latitude_of_origin&quot;,0],PARAMETER[&quot;central_meridian&quot;,27],PARAMETER[&quot;scale_factor&quot;,0.9996],PARAMETER[&quot;false_easting&quot;,500000],PARAMETER[&quot;false_northing&quot;,0],UNIT[&quot;metre&quot;,1,AUTHORITY[&quot;EPSG&quot;,&quot;9001&quot;]],AXIS[&quot;Easting&quot;,EAST],AXIS[&quot;Northing&quot;,NORTH],AUTHORITY[&quot;EPSG&quot;,&quot;32635&quot;]]</dd><dt><span>semi_major_axis :</span></dt><dd>6378137.0</dd><dt><span>semi_minor_axis :</span></dt><dd>6356752.314245179</dd><dt><span>inverse_flattening :</span></dt><dd>298.257223563</dd><dt><span>reference_ellipsoid_name :</span></dt><dd>WGS 84</dd><dt><span>longitude_of_prime_meridian :</span></dt><dd>0.0</dd><dt><span>prime_meridian_name :</span></dt><dd>Greenwich</dd><dt><span>geographic_crs_name :</span></dt><dd>WGS 84</dd><dt><span>horizontal_datum_name :</span></dt><dd>World Geodetic System 1984</dd><dt><span>projected_crs_name :</span></dt><dd>WGS 84 / UTM zone 35N</dd><dt><span>grid_mapping_name :</span></dt><dd>transverse_mercator</dd><dt><span>latitude_of_projection_origin :</span></dt><dd>0.0</dd><dt><span>longitude_of_central_meridian :</span></dt><dd>27.0</dd><dt><span>false_easting :</span></dt><dd>500000.0</dd><dt><span>false_northing :</span></dt><dd>0.0</dd><dt><span>scale_factor_at_central_meridian :</span></dt><dd>0.9996</dd><dt><span>spatial_ref :</span></dt><dd>PROJCS[&quot;WGS 84 / UTM zone 35N&quot;,GEOGCS[&quot;WGS 84&quot;,DATUM[&quot;WGS_1984&quot;,SPHEROID[&quot;WGS 84&quot;,6378137,298.257223563,AUTHORITY[&quot;EPSG&quot;,&quot;7030&quot;]],AUTHORITY[&quot;EPSG&quot;,&quot;6326&quot;]],PRIMEM[&quot;Greenwich&quot;,0,AUTHORITY[&quot;EPSG&quot;,&quot;8901&quot;]],UNIT[&quot;degree&quot;,0.0174532925199433,AUTHORITY[&quot;EPSG&quot;,&quot;9122&quot;]],AUTHORITY[&quot;EPSG&quot;,&quot;4326&quot;]],PROJECTION[&quot;Transverse_Mercator&quot;],PARAMETER[&quot;latitude_of_origin&quot;,0],PARAMETER[&quot;central_meridian&quot;,27],PARAMETER[&quot;scale_factor&quot;,0.9996],PARAMETER[&quot;false_easting&quot;,500000],PARAMETER[&quot;false_northing&quot;,0],UNIT[&quot;metre&quot;,1,AUTHORITY[&quot;EPSG&quot;,&quot;9001&quot;]],AXIS[&quot;Easting&quot;,EAST],AXIS[&quot;Northing&quot;,NORTH],AUTHORITY[&quot;EPSG&quot;,&quot;32635&quot;]]</dd><dt><span>GeoTransform :</span></dt><dd>499980.0 10.0 0.0 4100040.0 0.0 -10.0</dd></dl></div><div class='xr-var-data'><pre>array(0)</pre></div></li></ul></div></li><li class='xr-section-item'><input id='section-2541bf0d-80ef-4874-9772-192d13408ac8' class='xr-section-summary-in' type='checkbox'  ><label for='section-2541bf0d-80ef-4874-9772-192d13408ac8' class='xr-section-summary' >Indexes: <span>(3)</span></label><div class='xr-section-inline-details'></div><div class='xr-section-details'><ul class='xr-var-list'><li class='xr-var-item'><div class='xr-index-name'><div>band</div></div><div class='xr-index-preview'>PandasIndex</div><div></div><input id='index-36e80b75-7df1-4dcc-830c-1fdd673a359e' class='xr-index-data-in' type='checkbox'/><label for='index-36e80b75-7df1-4dcc-830c-1fdd673a359e' title='Show/Hide index repr'><svg class='icon xr-icon-database'><use xlink:href='#icon-database'></use></svg></label><div class='xr-index-data'><pre>PandasIndex(Index([1], dtype=&#x27;int32&#x27;, name=&#x27;band&#x27;))</pre></div></li><li class='xr-var-item'><div class='xr-index-name'><div>x</div></div><div class='xr-index-preview'>PandasIndex</div><div></div><input id='index-a1393fd1-2881-4655-b1de-5253527a719b' class='xr-index-data-in' type='checkbox'/><label for='index-a1393fd1-2881-4655-b1de-5253527a719b' title='Show/Hide index repr'><svg class='icon xr-icon-database'><use xlink:href='#icon-database'></use></svg></label><div class='xr-index-data'><pre>PandasIndex(Index([499985.0, 499995.0, 500005.0, 500015.0, 500025.0, 500035.0, 500045.0,\n",
       "       500055.0, 500065.0, 500075.0,\n",
       "       ...\n",
       "       609685.0, 609695.0, 609705.0, 609715.0, 609725.0, 609735.0, 609745.0,\n",
       "       609755.0, 609765.0, 609775.0],\n",
       "      dtype=&#x27;float64&#x27;, name=&#x27;x&#x27;, length=10980))</pre></div></li><li class='xr-var-item'><div class='xr-index-name'><div>y</div></div><div class='xr-index-preview'>PandasIndex</div><div></div><input id='index-80a71cf1-a35b-4877-9431-31ade9671166' class='xr-index-data-in' type='checkbox'/><label for='index-80a71cf1-a35b-4877-9431-31ade9671166' title='Show/Hide index repr'><svg class='icon xr-icon-database'><use xlink:href='#icon-database'></use></svg></label><div class='xr-index-data'><pre>PandasIndex(Index([4100035.0, 4100025.0, 4100015.0, 4100005.0, 4099995.0, 4099985.0,\n",
       "       4099975.0, 4099965.0, 4099955.0, 4099945.0,\n",
       "       ...\n",
       "       3990335.0, 3990325.0, 3990315.0, 3990305.0, 3990295.0, 3990285.0,\n",
       "       3990275.0, 3990265.0, 3990255.0, 3990245.0],\n",
       "      dtype=&#x27;float64&#x27;, name=&#x27;y&#x27;, length=10980))</pre></div></li></ul></div></li><li class='xr-section-item'><input id='section-e8598b6b-2fb0-4bac-a0c0-c246b53c7921' class='xr-section-summary-in' type='checkbox'  checked><label for='section-e8598b6b-2fb0-4bac-a0c0-c246b53c7921' class='xr-section-summary' >Attributes: <span>(5)</span></label><div class='xr-section-inline-details'></div><div class='xr-section-details'><dl class='xr-attrs'><dt><span>AREA_OR_POINT :</span></dt><dd>Area</dd><dt><span>OVR_RESAMPLING_ALG :</span></dt><dd>AVERAGE</dd><dt><span>_FillValue :</span></dt><dd>0</dd><dt><span>scale_factor :</span></dt><dd>1.0</dd><dt><span>add_offset :</span></dt><dd>0.0</dd></dl></div></li></ul></div></div>"
      ],
      "text/plain": [
       "<xarray.DataArray (band: 1, y: 10980, x: 10980)> Size: 241MB\n",
       "[120560400 values with dtype=uint16]\n",
       "Coordinates:\n",
       "  * band         (band) int32 4B 1\n",
       "  * x            (x) float64 88kB 5e+05 5e+05 5e+05 ... 6.098e+05 6.098e+05\n",
       "  * y            (y) float64 88kB 4.1e+06 4.1e+06 4.1e+06 ... 3.99e+06 3.99e+06\n",
       "    spatial_ref  int32 4B 0\n",
       "Attributes:\n",
       "    AREA_OR_POINT:       Area\n",
       "    OVR_RESAMPLING_ALG:  AVERAGE\n",
       "    _FillValue:          0\n",
       "    scale_factor:        1.0\n",
       "    add_offset:          0.0"
      ]
     },
     "execution_count": 5,
     "metadata": {},
     "output_type": "execute_result"
    }
   ],
   "source": [
    "red"
   ]
  },
  {
   "cell_type": "markdown",
   "id": "3b28b1af",
   "metadata": {},
   "source": [
    "By printing the variable we can get a quick look at the shape and attributes of the data."
   ]
  },
  {
   "cell_type": "code",
   "execution_count": 6,
   "id": "63d50895",
   "metadata": {},
   "outputs": [
    {
     "name": "stdout",
     "output_type": "stream",
     "text": [
      "<xarray.DataArray (band: 1, y: 10980, x: 10980)> Size: 241MB\n",
      "[120560400 values with dtype=uint16]\n",
      "Coordinates:\n",
      "  * band         (band) int32 4B 1\n",
      "  * x            (x) float64 88kB 5e+05 5e+05 5e+05 ... 6.098e+05 6.098e+05\n",
      "  * y            (y) float64 88kB 4.1e+06 4.1e+06 4.1e+06 ... 3.99e+06 3.99e+06\n",
      "    spatial_ref  int32 4B 0\n",
      "Attributes:\n",
      "    AREA_OR_POINT:       Area\n",
      "    OVR_RESAMPLING_ALG:  AVERAGE\n",
      "    _FillValue:          0\n",
      "    scale_factor:        1.0\n",
      "    add_offset:          0.0\n"
     ]
    }
   ],
   "source": [
    "print(red)"
   ]
  },
  {
   "cell_type": "markdown",
   "id": "4b0150fd",
   "metadata": {},
   "source": [
    "The output tells us that we are looking at an xarray.DataArray, with 1 band, 10980 rows, and 10980 columns. We can also see the number of pixel values in the DataArray, and the type of those pixel values, which is unsigned integer (or uint16). The DataArray also stores different values for the coordinates of the DataArray. When using rioxarray, the term coordinates refers to spatial coordinates like x and y but also the band coordinate. Each of these sequences of values has its own data type, like float64 for the spatial coordinates and int64 for the band coordinate.\n",
    "\n",
    "This DataArray object also has a couple of attributes that are accessed like .rio.crs, .rio.nodata, and .rio.bounds(), which contains the metadata for the file we opened. Note that many of the metadata are accessed as attributes without (), however since bounds() is a method (i.e. a function in an object, it needs to do something to estimate the bounds) it requires these parentheses this is also the case for .rio.resolution().\n",
    "\n",
    ".rio is an accessor  and a way to access attributes or methods to get information from an object in a clean and controlled way. An accessor allows you to retrieve information from an object, without modifying it."
   ]
  },
  {
   "cell_type": "code",
   "execution_count": 7,
   "id": "5de55015",
   "metadata": {},
   "outputs": [
    {
     "name": "stdout",
     "output_type": "stream",
     "text": [
      "EPSG:32635\n",
      "0\n",
      "(499980.0, 3990240.0, 609780.0, 4100040.0)\n",
      "10980\n",
      "10980\n",
      "(10.0, -10.0)\n"
     ]
    }
   ],
   "source": [
    "print(red.rio.crs)\n",
    "print(red.rio.nodata)\n",
    "print(red.rio.bounds())\n",
    "print(red.rio.width)\n",
    "print(red.rio.height)\n",
    "print(red.rio.resolution())"
   ]
  },
  {
   "cell_type": "code",
   "execution_count": 8,
   "id": "4799758a",
   "metadata": {},
   "outputs": [
    {
     "name": "stdout",
     "output_type": "stream",
     "text": [
      "<xarray.DataArray ()> Size: 2B\n",
      "array(23384, dtype=uint16)\n",
      "Coordinates:\n",
      "    spatial_ref  int32 4B 0\n",
      "<xarray.DataArray ()> Size: 2B\n",
      "array(0, dtype=uint16)\n",
      "Coordinates:\n",
      "    spatial_ref  int32 4B 0\n"
     ]
    }
   ],
   "source": [
    "print(red.max())\n",
    "print(red.min())"
   ]
  },
  {
   "cell_type": "code",
   "execution_count": 9,
   "id": "991c45d5-cdc2-4f6b-b9cc-c0eafae6b031",
   "metadata": {},
   "outputs": [
    {
     "name": "stdout",
     "output_type": "stream",
     "text": [
      "EPSG:32635\n"
     ]
    }
   ],
   "source": [
    "print(red.rio.crs)"
   ]
  },
  {
   "cell_type": "markdown",
   "id": "856abdb4",
   "metadata": {},
   "source": [
    "The Coordinate Reference System, or rhodes_red.rio.crs, is reported as the string EPSG:32635. The nodata value is encoded as 0 and the bounding box corners of our raster are represented by the output of .bounds() as a tuple (like a list but you can’t edit it). The height and width match what we saw when we printed the DataArray, but by using .rio.width and .rio.height we can access these values if we need them in calculations."
   ]
  },
  {
   "cell_type": "markdown",
   "id": "5b7543cf",
   "metadata": {},
   "source": [
    "Visualize a Raster\n",
    "\n",
    "After viewing the attributes of our raster, we can examine the raw values of the array with .values:\n",
    "\n",
    "An array is a collection of items stored at memory locations, where all items are of the same type.\n",
    "\n",
    "In regular Python (without external libraries), the most common array-like structure is a list:"
   ]
  },
  {
   "cell_type": "code",
   "execution_count": 10,
   "id": "40003414-76d8-429d-8216-8216c0820ea1",
   "metadata": {},
   "outputs": [
    {
     "data": {
      "text/plain": [
       "array([[[ 0,  0,  0, ..., 57, 43, 44],\n",
       "        [ 0,  0,  0, ..., 61, 24, 19],\n",
       "        [ 0,  0,  0, ..., 22,  1,  1],\n",
       "        ...,\n",
       "        [ 0,  0,  0, ...,  1,  1,  1],\n",
       "        [ 0,  0,  0, ...,  1,  1,  1],\n",
       "        [ 0,  0,  0, ...,  1,  1,  1]]], dtype=uint16)"
      ]
     },
     "execution_count": 10,
     "metadata": {},
     "output_type": "execute_result"
    }
   ],
   "source": [
    "red.values"
   ]
  },
  {
   "cell_type": "markdown",
   "id": "a9c0dca1",
   "metadata": {},
   "source": [
    "This can give us a quick view of the values of our array, but only at the corners. Since our raster is loaded in python as a DataArray type, we can plot this in one line similar to a pandas DataFrame with DataArray.plot().\n",
    "\n"
   ]
  },
  {
   "cell_type": "code",
   "execution_count": 11,
   "id": "9330966b",
   "metadata": {},
   "outputs": [
    {
     "data": {
      "text/plain": [
       "<matplotlib.collections.QuadMesh at 0x2c135120c10>"
      ]
     },
     "execution_count": 11,
     "metadata": {},
     "output_type": "execute_result"
    },
    {
     "data": {
      "image/png": "[encoded data removed]",
      "text/plain": [
       "<Figure size 640x480 with 2 Axes>"
      ]
     },
     "metadata": {},
     "output_type": "display_data"
    }
   ],
   "source": [
    "red.plot()"
   ]
  },
  {
   "cell_type": "markdown",
   "id": "98a81ed4",
   "metadata": {},
   "source": [
    "Resampling the raster image\n",
    "\n",
    "The red band image is available as a raster file with 10 m resolution, which makes it a relatively large file (few hundreds MBs). In order to keep calculations “manageable” (reasonable execution time and memory usage) we select here a lower resolution version of the image, taking advantage of the so-called “pyramidal” structure of cloud-optimized GeoTIFFs (COGs). COGs, in fact, typically include multiple lower-resolution versions of the original image, called “overviews”, in the same file. This allows us to avoid downloading high-resolution images when only quick previews are required.\n",
    "\n",
    "Overviews are often computed using powers of 2 as down-sampling (or zoom) factors. So, typically, the first level overview (index 0) corresponds to a zoom factor of 2, the second level overview (index 1) corresponds to a zoom factor of 4, and so on. Here, we open the third level overview (index 2, zoom factor 8) and check that the resolution is about 80 m:"
   ]
  },
  {
   "cell_type": "code",
   "execution_count": null,
   "id": "e8e2992e-7622-46e1-8fa4-628dfca39a3b",
   "metadata": {},
   "outputs": [],
   "source": [
    "red_lowres = rioxarray.open_rasterio('../data/input_data/sentinel2/red.tif', overview_level=2)"
   ]
  },
  {
   "cell_type": "code",
   "execution_count": null,
   "id": "a6079969-3279-4688-b6d9-47ad62fbeefd",
   "metadata": {},
   "outputs": [],
   "source": [
    "red_lowres"
   ]
  },
  {
   "cell_type": "code",
   "execution_count": null,
   "id": "add50b14",
   "metadata": {},
   "outputs": [],
   "source": [
    "red_lowres.plot()"
   ]
  },
  {
   "cell_type": "markdown",
   "id": "89452a0f",
   "metadata": {},
   "source": [
    "This plot shows the satellite measurement of the band red for Rhodes before the wildfire. According to the Sentinel-2 documentaion, this is a band with the central wavelength of 665nm. It has a spatial resolution of 10m. Note that the band=1 in the image title refers to the ordering of all the bands in the DataArray, not the Sentinel-2 band red. \n"
   ]
  },
  {
   "cell_type": "code",
   "execution_count": null,
   "id": "bbfcaa61",
   "metadata": {},
   "outputs": [],
   "source": [
    "red_lowres.plot(vmin=100, vmax=2000)"
   ]
  },
  {
   "cell_type": "markdown",
   "id": "9558688d",
   "metadata": {},
   "source": [
    "More options can be consulted here. You will notice that these parameters are part of the imshow method from the plot function. Since plot originates from matplotlib and is so widely used, your python environment helps you to interpret the parameters without having to specify the method. It is a service to help you, but can be confusing when teaching it. We will explain more about this below."
   ]
  },
  {
   "cell_type": "code",
   "execution_count": null,
   "id": "f6c7e13a-c403-4d92-91c8-1c84bd857b1b",
   "metadata": {},
   "outputs": [],
   "source": [
    "red_lowres.plot(robust=True)"
   ]
  },
  {
   "cell_type": "markdown",
   "id": "298a2f57",
   "metadata": {},
   "source": [
    "## View Raster Coordinate Reference System (CRS) in Python"
   ]
  },
  {
   "cell_type": "markdown",
   "id": "f3745fbf",
   "metadata": {},
   "source": [
    "Another information that we’re interested in is the CRS, and it can be accessed with .rio.crs. We introduced the concept of a CRS in an earlier episode. Now we will see how features of the CRS appear in our data file and what meanings they have. We can view the CRS string associated with our DataArray’s rio object using the crs attribute."
   ]
  },
  {
   "cell_type": "code",
   "execution_count": null,
   "id": "4537eb58",
   "metadata": {},
   "outputs": [],
   "source": [
    "red.rio.crs"
   ]
  },
  {
   "cell_type": "markdown",
   "id": "898547c6",
   "metadata": {},
   "source": [
    "To print the EPSG code number as an int, we use the .to_epsg() method (which originally is part of rasterio to_epsg):"
   ]
  },
  {
   "cell_type": "code",
   "execution_count": null,
   "id": "78e4ee8b",
   "metadata": {},
   "outputs": [],
   "source": [
    "epsg = red.rio.crs.to_epsg()\n",
    "epsg "
   ]
  },
  {
   "cell_type": "markdown",
   "id": "d845fcb5",
   "metadata": {},
   "source": [
    "EPSG codes are great for succinctly representing a particular coordinate reference system. But what if we want to see more details about the CRS, like the units? For that, we can use pyproj , a library for representing and working with coordinate reference systems."
   ]
  },
  {
   "cell_type": "code",
   "execution_count": null,
   "id": "30a29413",
   "metadata": {},
   "outputs": [],
   "source": [
    "from pyproj import CRS\n",
    "crs = CRS(epsg)\n",
    "crs"
   ]
  },
  {
   "cell_type": "markdown",
   "id": "c91660ed",
   "metadata": {},
   "source": [
    "The CRS class from the pyproj library allows us to create a CRS object with methods and attributes for accessing specific information about a CRS, or the detailed summary shown above.\n",
    "\n",
    "A particularly useful attribute is area_of_use, which shows the geographic bounds that the CRS is intended to be used."
   ]
  },
  {
   "cell_type": "code",
   "execution_count": null,
   "id": "174f3aa9",
   "metadata": {},
   "outputs": [],
   "source": [
    "crs.area_of_use"
   ]
  },
  {
   "cell_type": "markdown",
   "id": "1c141ce1",
   "metadata": {},
   "source": [
    "## Dealing with Missing Data\n",
    "\n",
    "So far, we have visualized a band of a Sentinel-2 scene and calculated its statistics. However, as you can see on the image it also contains an artificial band to the top left where data is missing. In order to calculate meaningfull statistics, we need to take missing data into account. Raster data often has a “no data value” associated with it and for raster datasets read in by rioxarray. This value is referred to as nodata. This is a value assigned to pixels where data is missing or no data were collected. There can be different cases that cause missing data, and it’s common for other values in a raster to represent different cases. The most common example is missing data at the edges of rasters.\n",
    "\n",
    "By default the shape of a raster is always rectangular. So if we have a dataset that has a shape that isn’t rectangular, like most satellite images, some pixels at the edge of the raster will have no data values. This often happens when the data were collected by a sensor which only flew over some part of a defined region and is also almost by default because of the fact that the earth is not flat and that we work with geographic and projected coordinate system.\n",
    "\n",
    "To check the value of nodata of this dataset you can use:"
   ]
  },
  {
   "cell_type": "code",
   "execution_count": null,
   "id": "bcf4b6db",
   "metadata": {},
   "outputs": [],
   "source": [
    "red.rio.nodata"
   ]
  },
  {
   "cell_type": "markdown",
   "id": "478e9757",
   "metadata": {},
   "source": [
    "You will find out that this is 0. When we have plotted the band data, or calculated statistics, the missing value was not distinguished from other values. Missing data may cause some unexpected results.\n",
    "\n",
    "To distinguish missing data from real data, one possible way is to use nan(which stands for Not a Number) to represent them. This can be done by specifying masked=True when loading the raster. Let us reload our data and put it into a different variable with the mask:"
   ]
  },
  {
   "cell_type": "code",
   "execution_count": null,
   "id": "e4209f4e",
   "metadata": {},
   "outputs": [],
   "source": [
    "red_nodata = rioxarray.open_rasterio('../data/input_data/sentinel2/red.tif', masked=True, overview_level=2)"
   ]
  },
  {
   "cell_type": "code",
   "execution_count": null,
   "id": "584618a6-cdf2-4fdb-ac5b-fab4bb6fa795",
   "metadata": {},
   "outputs": [],
   "source": [
    "print(red_nodata)"
   ]
  },
  {
   "cell_type": "code",
   "execution_count": null,
   "id": "d195d873",
   "metadata": {},
   "outputs": [],
   "source": [
    "red_lowres.where(red_lowres != red_lowres.rio.nodata)"
   ]
  },
  {
   "cell_type": "markdown",
   "id": "45c17e7c",
   "metadata": {},
   "source": [
    "Either way will change the nodata value from 0 to nan. Now if we compute the statistics again, the missing data will not be considered. Let´s compare them:"
   ]
  },
  {
   "cell_type": "code",
   "execution_count": null,
   "id": "cd3d6ef8",
   "metadata": {},
   "outputs": [],
   "source": [
    "print(red_lowres.min())\n",
    "print(red_nodata.min())\n",
    "print(red_lowres.max())\n",
    "print(red_nodata.max())\n",
    "print(red_lowres.mean())\n",
    "print(red_nodata.mean())\n",
    "print(red_lowres.std())\n",
    "print(red_nodata.std())"
   ]
  },
  {
   "cell_type": "markdown",
   "id": "68da530e",
   "metadata": {},
   "source": [
    "And if we plot the image, the nodata pixels are not shown because they are not 0 anymore:"
   ]
  },
  {
   "cell_type": "code",
   "execution_count": null,
   "id": "72f3c639-d41c-4010-95d5-f1d5787d193d",
   "metadata": {},
   "outputs": [],
   "source": [
    "red_nodata.plot(robust=True)"
   ]
  },
  {
   "cell_type": "markdown",
   "id": "845daaa0",
   "metadata": {},
   "source": [
    "One should notice that there is a side effect of using nan instead of 0 to represent the missing data: the data type of the DataArray was changed from integers to float (as can be seen when we printed the statistics). This needs to be taken into consideration when the data type matters in your application."
   ]
  },
  {
   "cell_type": "markdown",
   "id": "79bddc3c",
   "metadata": {},
   "source": [
    "## Raster Bands"
   ]
  },
  {
   "cell_type": "markdown",
   "id": "934b5c8b",
   "metadata": {},
   "source": [
    "So far we looked into a single band raster, i.e. the red band of a Sentinel-2 scene. However, for certain applications it is helpful to visualize the true-color image of the region. This is provided as a multi-band raster – a raster dataset that contains more than one band."
   ]
  },
  {
   "cell_type": "markdown",
   "id": "56af4061",
   "metadata": {},
   "source": [
    "The visual asset in the Sentinel-2 scene is a multiband asset. Similar to the red band, we can load it by:"
   ]
  },
  {
   "cell_type": "code",
   "execution_count": null,
   "id": "236c6a79",
   "metadata": {},
   "outputs": [],
   "source": [
    "visual_lowres = rioxarray.open_rasterio('../data/input_data/sentinel2/visual.tif', overview_level=2)\n",
    "visual_lowres"
   ]
  },
  {
   "cell_type": "markdown",
   "id": "316c1983",
   "metadata": {},
   "source": [
    "The band number comes first when GeoTiffs are read with the .open_rasterio() function. As we can see in the xarray.DataArray object, the shape is now (band: 3, y: 1373, x: 1373), with three bands in the band dimension. It’s always a good idea to examine the shape of the raster array you are working with and make sure it’s what you expect. Many functions, especially the ones that plot images, expect a raster array to have a particular shape. One can also check the shape using the .shape attribute:"
   ]
  },
  {
   "cell_type": "code",
   "execution_count": null,
   "id": "25f4f96f",
   "metadata": {},
   "outputs": [],
   "source": [
    "visual_lowres.shape"
   ]
  },
  {
   "cell_type": "code",
   "execution_count": null,
   "id": "1fc81234",
   "metadata": {},
   "outputs": [],
   "source": [
    "visual_lowres.plot()"
   ]
  },
  {
   "cell_type": "markdown",
   "id": "3cdccf01",
   "metadata": {},
   "source": [
    "One can visualize the multi-band data with the DataArray.plot.imshow() function:\n",
    "\n",
    "https://docs.xarray.dev/en/v2024.02.0/generated/xarray.plot.imshow.html"
   ]
  },
  {
   "cell_type": "code",
   "execution_count": null,
   "id": "cdcf3774-3d25-42c9-9e7b-64608cf74eb4",
   "metadata": {},
   "outputs": [],
   "source": [
    "visual_lowres.plot.imshow()"
   ]
  },
  {
   "cell_type": "markdown",
   "id": "72c7518d",
   "metadata": {},
   "source": [
    "Note that the DataArray.plot.imshow() function makes assumptions about the shape of the input DataArray, that since it has three channels, the correct colormap for these channels is RGB. It does not work directly on image arrays with more than 3 channels. One can replace one of the RGB channels with another band, to make a false-color image."
   ]
  }
 ],
 "metadata": {
  "jupytext": {
   "main_language": "python"
  },
  "kernelspec": {
   "display_name": "geospatial",
   "language": "python",
   "name": "python3"
  },
  "language_info": {
   "codemirror_mode": {
    "name": "ipython",
    "version": 3
   },
   "file_extension": ".py",
   "mimetype": "text/x-python",
   "name": "python",
   "nbconvert_exporter": "python",
   "pygments_lexer": "ipython3",
   "version": "3.10.13"
  }
 },
 "nbformat": 4,
 "nbformat_minor": 5
}
