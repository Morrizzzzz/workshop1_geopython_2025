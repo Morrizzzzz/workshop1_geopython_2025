{
 "cells": [
  {
   "cell_type": "markdown",
   "id": "c0e1ffd4-2ecf-47a7-b2b2-f696fd546399",
   "metadata": {},
   "source": [
    "Intro to python"
   ]
  },
  {
   "cell_type": "code",
   "execution_count": null,
   "id": "db38ba5e-165a-4dfb-b7e3-1b03de90f831",
   "metadata": {},
   "outputs": [],
   "source": [
    "print(\"Hello UNIGIS\") "
   ]
  },
  {
   "cell_type": "code",
   "execution_count": null,
   "id": "b0e07eb2-8272-4cb0-b874-c3cc572d9748",
   "metadata": {},
   "outputs": [],
   "source": [
    "2+2"
   ]
  },
  {
   "cell_type": "code",
   "execution_count": null,
   "id": "3e971d18-b0f0-4d66-b74e-c963e3fb702b",
   "metadata": {},
   "outputs": [],
   "source": [
    "hello + unigis #will not work!\n"
   ]
  },
  {
   "cell_type": "code",
   "execution_count": null,
   "id": "5856d03e-693e-4f99-a96a-41f54bcf66fa",
   "metadata": {},
   "outputs": [],
   "source": [
    "\"hello\"+\"unigis\""
   ]
  },
  {
   "cell_type": "markdown",
   "id": "8e168c68-475c-4475-b70e-7c327dc5bb6e",
   "metadata": {},
   "source": [
    "VARIABLE"
   ]
  },
  {
   "cell_type": "code",
   "execution_count": null,
   "id": "0fae3bb2-9cd9-47f6-a837-9116cdbdf328",
   "metadata": {},
   "outputs": [],
   "source": [
    "string1 = \"hello\"\n",
    "string2 = \"unigis\"\n"
   ]
  },
  {
   "cell_type": "code",
   "execution_count": null,
   "id": "13a59c76-06ed-4d56-a4ec-2b417fa16c68",
   "metadata": {},
   "outputs": [],
   "source": [
    "string1 + \" \" + string2"
   ]
  },
  {
   "cell_type": "code",
   "execution_count": null,
   "id": "313391f7-ba79-46a7-bc11-af4c80d86510",
   "metadata": {},
   "outputs": [],
   "source": [
    "type(string1)"
   ]
  },
  {
   "cell_type": "code",
   "execution_count": null,
   "id": "4d3f561d-9dcc-4c49-bb2f-5a82f1eecdb2",
   "metadata": {},
   "outputs": [],
   "source": [
    "number1 = 2\n",
    "number2 = 2"
   ]
  },
  {
   "cell_type": "code",
   "execution_count": null,
   "id": "692b0387-c11a-49e9-a2f4-9f9c7a599ee7",
   "metadata": {},
   "outputs": [],
   "source": [
    "type(number1)"
   ]
  },
  {
   "cell_type": "code",
   "execution_count": null,
   "id": "de4c50c7-67c0-4e67-aa12-1976f28320b2",
   "metadata": {},
   "outputs": [],
   "source": [
    "number1 +  number2"
   ]
  },
  {
   "cell_type": "code",
   "execution_count": null,
   "id": "c2e3243c-e71d-49bb-8c58-ed62b62df657",
   "metadata": {},
   "outputs": [],
   "source": [
    "str(number1)+ str(number2)"
   ]
  },
  {
   "cell_type": "code",
   "execution_count": null,
   "id": "4915ab0f-27a1-4477-a336-af6840d2b9f4",
   "metadata": {},
   "outputs": [],
   "source": [
    "number1 * number2 #multiplcation"
   ]
  },
  {
   "cell_type": "code",
   "execution_count": null,
   "id": "42e37abb-4977-436e-a3e9-e4e939ee21b0",
   "metadata": {},
   "outputs": [],
   "source": [
    "number1 ** number2 #power"
   ]
  },
  {
   "cell_type": "markdown",
   "id": "9ce1addc-d73f-4e33-b441-e13147b56cea",
   "metadata": {},
   "source": [
    "Logical operations <, >, ==, !=, <=, >= "
   ]
  },
  {
   "cell_type": "code",
   "execution_count": null,
   "id": "9f3615f7-0f15-47a6-a163-b042b2a79504",
   "metadata": {},
   "outputs": [],
   "source": [
    "3 > 4"
   ]
  },
  {
   "cell_type": "markdown",
   "id": "e50d4ebb",
   "metadata": {},
   "source": [
    "1. CHAR(n) / VARCHAR(n) → Python: str\n",
    "\n",
    "    SQL: ‘Amsterdam’\n",
    "\n",
    "    Python:\n",
    "\n",
    "    city = \"Amsterdam\"  # str\n",
    "\n",
    "2. BIT(n) → Python: str or int (binary) or list[int]\n",
    "\n",
    "    SQL: '0010011'\n",
    "\n",
    "    Python (as string of bits):\n",
    "\n",
    "bits = \"0010011\"  # str\n",
    "\n",
    "Or as a list of bits:\n",
    "\n",
    "    bits_list = [0, 0, 1, 0, 0, 1, 1]  # list[int]\n",
    "\n",
    "3. BOOLEAN → Python: bool\n",
    "\n",
    "    SQL: TRUE, FALSE, UNKNOWN\n",
    "\n",
    "    Python:\n",
    "\n",
    "    is_active = True     # bool\n",
    "    is_deleted = False   # bool\n",
    "    is_verified = None   # represents UNKNOWN\n",
    "\n",
    "4. INTEGER / INT → Python: int\n",
    "\n",
    "    SQL: 1232\n",
    "\n",
    "    Python:\n",
    "\n",
    "    number = 1232  # int\n",
    "\n",
    "5. FLOAT / NUMERIC → Python: float\n",
    "\n",
    "    SQL: 3,1452 (note: in Python and most systems, a dot . is used as the decimal separator)\n",
    "\n",
    "    Python:\n",
    "\n",
    "    value = 3.1452  # float\n",
    "\n",
    "6. DATE / TIME / TIMESTAMP → Python: datetime objects\n",
    "\n",
    "    SQL: timestamp '2001-09-29 00:00:00'\n",
    "\n",
    "    Python:\n",
    "\n",
    "from datetime import datetime\n",
    "timestamp = datetime.strptime(\"2001-09-29 00:00:00\", \"%Y-%m-%d %H:%M:%S\")"
   ]
  },
  {
   "cell_type": "markdown",
   "id": "73030335-1688-4a5e-9edf-cd65baafe63e",
   "metadata": {},
   "source": [
    "LISTS AND TUPLES"
   ]
  },
  {
   "cell_type": "code",
   "execution_count": null,
   "id": "cd377585-9e66-407b-906a-84dd74ad686b",
   "metadata": {},
   "outputs": [],
   "source": [
    "numbers = [1,2,3,4,5,6,7]\n",
    "numbers[1]"
   ]
  },
  {
   "cell_type": "code",
   "execution_count": null,
   "id": "d7024ced-6268-4a3a-a59b-a323f48e07a9",
   "metadata": {},
   "outputs": [],
   "source": [
    "len(numbers)"
   ]
  },
  {
   "cell_type": "code",
   "execution_count": null,
   "id": "2c0587bb-13b4-463e-bef7-2ed18ddf4190",
   "metadata": {},
   "outputs": [],
   "source": [
    "for number in numbers:\n",
    "    print(str(number)+\"randomstring\")"
   ]
  },
  {
   "cell_type": "code",
   "execution_count": null,
   "id": "98b43e1e-7329-463c-9448-749bfd2a31a7",
   "metadata": {},
   "outputs": [],
   "source": [
    "numbers.append(8)\n",
    "print(numbers)"
   ]
  },
  {
   "cell_type": "markdown",
   "id": "9a566d34-93eb-4ee3-a391-80b0fed4d924",
   "metadata": {},
   "source": [
    "TUPLES CANNOT BE CHANGED"
   ]
  },
  {
   "cell_type": "code",
   "execution_count": null,
   "id": "61d9a861-f4af-4a9d-b5a9-4c90b2169aa1",
   "metadata": {},
   "outputs": [],
   "source": [
    "a_tuple = (1,2,3,4)"
   ]
  },
  {
   "cell_type": "code",
   "execution_count": null,
   "id": "7d4b583f-f286-4ce8-845d-13c4a728d7b6",
   "metadata": {},
   "outputs": [],
   "source": [
    "len(a_tuple)"
   ]
  },
  {
   "cell_type": "code",
   "execution_count": null,
   "id": "79177f24-f89d-48ab-838e-28f0dde785f4",
   "metadata": {},
   "outputs": [],
   "source": [
    "another_tuple = (\"amsterdam\", \"antwerp\", \"Hoorn\")"
   ]
  },
  {
   "cell_type": "code",
   "execution_count": null,
   "id": "122bb5f6-fc55-4cb8-ab2a-2c980d2f4874",
   "metadata": {},
   "outputs": [],
   "source": [
    "another_tuple"
   ]
  },
  {
   "cell_type": "markdown",
   "id": "44eaf85a-00d7-41ab-bf7e-1bbc264e0940",
   "metadata": {},
   "source": [
    "DICTIONARIES"
   ]
  },
  {
   "cell_type": "code",
   "execution_count": null,
   "id": "3b2c770a-bb27-4144-a758-d9fd6eb462fb",
   "metadata": {},
   "outputs": [],
   "source": [
    "country_city = {\"netherlands\":\"amsterdam\", \"belgium\":\"antwerp\", \"netherlands\":\"Lecco\"}"
   ]
  },
  {
   "cell_type": "code",
   "execution_count": null,
   "id": "6b6be6d8-17f8-449d-85c3-09b2f91a06e8",
   "metadata": {},
   "outputs": [],
   "source": [
    "country_city['netherlands']"
   ]
  },
  {
   "cell_type": "code",
   "execution_count": null,
   "id": "664b392d-b225-4cdb-930f-7c2a8650c01d",
   "metadata": {},
   "outputs": [],
   "source": [
    "country_city['spain'] = \"madrid\""
   ]
  },
  {
   "cell_type": "code",
   "execution_count": null,
   "id": "6adb2d48-082f-489a-aa05-3e8324f51b87",
   "metadata": {},
   "outputs": [],
   "source": [
    "country_city"
   ]
  },
  {
   "cell_type": "markdown",
   "id": "317d0703-a9cd-4bbe-96a2-018a78a13cfd",
   "metadata": {},
   "source": [
    "FUNCTIONS"
   ]
  },
  {
   "cell_type": "code",
   "execution_count": null,
   "id": "b0d5a465-c8f9-4d9c-9be8-d65a42bb303f",
   "metadata": {},
   "outputs": [],
   "source": [
    "def add_function(a,b):\n",
    "    result = a+b\n",
    "    return result"
   ]
  },
  {
   "cell_type": "code",
   "execution_count": null,
   "id": "f369649e-f323-4608-80b2-6bf8afcf57a6",
   "metadata": {},
   "outputs": [],
   "source": [
    "add_function(2,4)"
   ]
  },
  {
   "cell_type": "markdown",
   "id": "32ef8bf4-2588-4c58-87c2-6e713b1ca9d5",
   "metadata": {},
   "source": [
    "DATAFRAMES PANDAS"
   ]
  },
  {
   "cell_type": "markdown",
   "id": "0db33e7d-5410-4ee8-b979-9eae1a84c977",
   "metadata": {},
   "source": [
    "Import a library"
   ]
  },
  {
   "cell_type": "code",
   "execution_count": null,
   "id": "5e780325-e273-4905-aba5-26277981ac60",
   "metadata": {},
   "outputs": [],
   "source": [
    "import pandas as pd"
   ]
  },
  {
   "cell_type": "markdown",
   "id": "f820e0a3-6501-4c9c-8449-0534de90aa4d",
   "metadata": {},
   "source": [
    "use tab to see options"
   ]
  },
  {
   "cell_type": "code",
   "execution_count": null,
   "id": "14c37e1c-22dc-4123-a438-db345736876b",
   "metadata": {},
   "outputs": [],
   "source": [
    "pd.read_csv(\"trees_amsterdam_sept_2023.csv\")"
   ]
  },
  {
   "cell_type": "code",
   "execution_count": null,
   "id": "61124a28-f193-4d01-b424-8d65e29dc7b4",
   "metadata": {},
   "outputs": [],
   "source": [
    "trees = pd.read_csv(\"trees_amsterdam_sept_2023.csv\") #this is a function loading the data"
   ]
  },
  {
   "cell_type": "code",
   "execution_count": null,
   "id": "494bb79f-e062-4da7-89a4-1cd7a00c549d",
   "metadata": {},
   "outputs": [],
   "source": [
    "trees"
   ]
  },
  {
   "cell_type": "code",
   "execution_count": null,
   "id": "02b642ea-f427-4539-a575-68a537681719",
   "metadata": {},
   "outputs": [],
   "source": [
    "trees.head()"
   ]
  },
  {
   "cell_type": "code",
   "execution_count": null,
   "id": "a649628b-abd4-43e6-83a0-942b983e0aa1",
   "metadata": {},
   "outputs": [],
   "source": [
    "trees.head(10)"
   ]
  },
  {
   "cell_type": "code",
   "execution_count": null,
   "id": "7cb1886b-a5d6-44b7-b7cf-653b834a01af",
   "metadata": {},
   "outputs": [],
   "source": [
    "type(trees)"
   ]
  },
  {
   "cell_type": "code",
   "execution_count": null,
   "id": "9b7e882b-af54-491e-a786-baeb3f2df0f2",
   "metadata": {},
   "outputs": [],
   "source": [
    "trees.dtypes"
   ]
  },
  {
   "cell_type": "code",
   "execution_count": null,
   "id": "b62d9151-197a-49a9-a523-ebddd6b339b5",
   "metadata": {},
   "outputs": [],
   "source": [
    "trees.columns #this is a method"
   ]
  },
  {
   "cell_type": "code",
   "execution_count": null,
   "id": "887e8b24-2bc0-463a-8286-b2f80e956795",
   "metadata": {},
   "outputs": [],
   "source": [
    "pd.unique(trees['soortnaam'])"
   ]
  },
  {
   "cell_type": "code",
   "execution_count": null,
   "id": "20a3dbdb-9b2b-4c0b-92a8-ec3bad8d7ca7",
   "metadata": {},
   "outputs": [],
   "source": [
    "len(pd.unique(trees['soortnaam']))"
   ]
  },
  {
   "cell_type": "code",
   "execution_count": null,
   "id": "44a84474-ef1a-41da-95f6-619e4f1328a3",
   "metadata": {},
   "outputs": [],
   "source": [
    "trees.describe()"
   ]
  },
  {
   "cell_type": "code",
   "execution_count": null,
   "id": "576b0aaf-f8ff-40bf-b1f3-7e799ba672d7",
   "metadata": {},
   "outputs": [],
   "source": [
    "grouped_year = trees.groupby('jaarVanAan')"
   ]
  },
  {
   "cell_type": "code",
   "execution_count": null,
   "id": "7f1a1c15-b58f-463c-9719-39390fc631e2",
   "metadata": {},
   "outputs": [],
   "source": [
    "grouped_year.describe()"
   ]
  },
  {
   "cell_type": "code",
   "execution_count": null,
   "id": "ae80c5f8-107b-47e1-b879-dabfe520437e",
   "metadata": {},
   "outputs": [],
   "source": [
    "trees_not_0 = trees[trees['jaarVanAan'] != 0]"
   ]
  },
  {
   "cell_type": "code",
   "execution_count": null,
   "id": "b2cc7b76-c2ac-4e60-b460-0a051f8d9ead",
   "metadata": {},
   "outputs": [],
   "source": [
    "trees_not_0"
   ]
  },
  {
   "cell_type": "code",
   "execution_count": null,
   "id": "a933e548-b160-4828-a0a6-b381b336252b",
   "metadata": {},
   "outputs": [],
   "source": [
    "trees_not_0[\"age\"] = 2024 - trees_not_0[\"jaarVanAan\"] "
   ]
  },
  {
   "cell_type": "code",
   "execution_count": null,
   "id": "67eca610-b837-437b-af3c-91cc8fe7e20b",
   "metadata": {},
   "outputs": [],
   "source": [
    "trees_not_0"
   ]
  },
  {
   "cell_type": "code",
   "execution_count": null,
   "id": "94bb7f4c-2b47-4c43-a7a6-755642236166",
   "metadata": {},
   "outputs": [],
   "source": [
    "trees_not_0['age'].max()"
   ]
  },
  {
   "cell_type": "code",
   "execution_count": null,
   "id": "405de67e-4e0c-4bcd-8245-3a34120c5aaa",
   "metadata": {},
   "outputs": [],
   "source": [
    "trees_not_0['age'].mean()"
   ]
  },
  {
   "cell_type": "code",
   "execution_count": null,
   "id": "f6bcf80c-16b8-4041-a8c9-c2be664fe6cf",
   "metadata": {},
   "outputs": [],
   "source": [
    "import matplotlib.pyplot as plt"
   ]
  },
  {
   "cell_type": "code",
   "execution_count": null,
   "id": "bc76dee2-4b18-42f3-8874-2b4594492209",
   "metadata": {},
   "outputs": [],
   "source": [
    "plt.bar(trees_not_0['soortnaamK'], trees_not_0['age'], color='red')\n",
    "plt.xlabel('Name')\n",
    "plt.ylabel('Age')\n",
    "plt.title('Age of trees by Name')\n",
    "plt.xticks(rotation=45)"
   ]
  },
  {
   "cell_type": "code",
   "execution_count": null,
   "id": "f5b2b49d-37ae-4751-8816-ba0d40eca36f",
   "metadata": {},
   "outputs": [],
   "source": [
    "tree_condition = pd.read_csv(\"tree_condiction_fake_data.csv\")"
   ]
  },
  {
   "cell_type": "code",
   "execution_count": null,
   "id": "7a5bfc06-c9bb-4969-827a-34feafc74652",
   "metadata": {},
   "outputs": [],
   "source": [
    "tree_condition.columns"
   ]
  },
  {
   "cell_type": "code",
   "execution_count": null,
   "id": "e5fb5ff0-e164-4bba-99b1-3ddae2e12b00",
   "metadata": {},
   "outputs": [],
   "source": [
    "tree_condition.head()"
   ]
  },
  {
   "cell_type": "code",
   "execution_count": null,
   "id": "4bda2489-fca6-4275-a847-5f560d223ead",
   "metadata": {},
   "outputs": [],
   "source": [
    "tree_condition.describe()"
   ]
  },
  {
   "cell_type": "code",
   "execution_count": null,
   "id": "c7bd1e71-2cd5-4828-9f0e-96bf98aa454f",
   "metadata": {},
   "outputs": [],
   "source": [
    "trees_not_0.columns"
   ]
  },
  {
   "cell_type": "code",
   "execution_count": null,
   "id": "3972d461-009f-4fa8-a601-5e3e04b032e2",
   "metadata": {},
   "outputs": [],
   "source": [
    "tree_join = pd.merge(left=trees_not_0, right=tree_condition, left_on='id', right_on='id') #this will be as default an inner join"
   ]
  },
  {
   "cell_type": "code",
   "execution_count": null,
   "id": "fbe5df83-4046-42a5-9fcb-8d41df6e766f",
   "metadata": {},
   "outputs": [],
   "source": [
    "tree_join.head()"
   ]
  },
  {
   "cell_type": "code",
   "execution_count": null,
   "id": "b60689ce-da5d-4755-8e8b-ba5250d69b24",
   "metadata": {},
   "outputs": [],
   "source": [
    "tree_join.describe()"
   ]
  },
  {
   "cell_type": "code",
   "execution_count": null,
   "id": "c7074ea4-6422-481a-ac6c-5c0589af6be3",
   "metadata": {},
   "outputs": [],
   "source": [
    "tree_join_left = pd.merge(left=tree_condition, right=trees_not_0 , how='left', left_on='id', right_on='id')"
   ]
  },
  {
   "cell_type": "code",
   "execution_count": null,
   "id": "79547eb1-7b8f-4207-971a-95eb810c2a09",
   "metadata": {},
   "outputs": [],
   "source": [
    "tree_join_left.describe()"
   ]
  },
  {
   "cell_type": "code",
   "execution_count": null,
   "id": "77bda4db-86da-48a1-bcfb-2c563f9563ff",
   "metadata": {},
   "outputs": [],
   "source": [
    "trees_not_0.to_csv('trees_not_0.csv')"
   ]
  },
  {
   "cell_type": "code",
   "execution_count": null,
   "id": "ac7b50dc-ed07-4c8a-a2be-03a0efa646c6",
   "metadata": {},
   "outputs": [],
   "source": [
    "tree_join.to_csv('trees_join.csv')"
   ]
  }
 ],
 "metadata": {
  "kernelspec": {
   "display_name": "geospatial",
   "language": "python",
   "name": "python3"
  },
  "language_info": {
   "codemirror_mode": {
    "name": "ipython",
    "version": 3
   },
   "file_extension": ".py",
   "mimetype": "text/x-python",
   "name": "python",
   "nbconvert_exporter": "python",
   "pygments_lexer": "ipython3",
   "version": "3.10.13"
  }
 },
 "nbformat": 4,
 "nbformat_minor": 5
}
