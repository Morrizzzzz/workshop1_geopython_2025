{
 "cells": [
  {
   "cell_type": "markdown",
   "id": "67c81b09-66c8-403d-8763-1561ddcae532",
   "metadata": {
    "jp-MarkdownHeadingCollapsed": true
   },
   "source": [
    "-   How do I perform calculations on rasters and extract pixel values for defined locations?\n",
    "\n",
    "-   Carry out operations with two rasters using Python’s built-in math operators.\n",
    "\n",
    "## Introduction\n",
    "\n",
    "We often want to combine values of and perform calculations on rasters to create a new output raster. This episode covers how to perform basic math operations using raster datasets. It also illustrates how to match rasters with different resolutions so that they can be used in the same calculation. As an example, we will calculate [a binary classification mask](https://custom-scripts.sentinel-hub.com/sentinel-2/burned_area_ms/) to identify burned area over a satellite scene.\n",
    "\n",
    "The classification mask requires the following of [the Sentinel-2 bands](https://gisgeography.com/sentinel-2-bands-combinations/) (and derived indices):\n",
    "* [Normalized difference vegetation index (NDVI)](https://en.wikipedia.org/wiki/Normalized_difference_vegetation_index), derived from the **near-infrared (NIR)** and **red** bands:\n",
    "$$ NDVI = \\frac{NIR - red}{NIR + red} $$\n",
    "* [Normalized difference water index (NDWI)](https://en.wikipedia.org/wiki/Normalized_difference_water_index), derived from the **green** and **NIR** bands:\n",
    "$$ NDWI = \\frac{green - NIR}{green + NIR} $$\n",
    "* A custom index derived from two of the **short-wave infrared (SWIR)** bands (with wavelenght ~1600 nm and ~2200 nm, respectively):\n",
    "$$ INDEX = \\frac{SWIR_{16} - SWIR_{22}}{SWIR_{16} + SWIR_{22}}$$\n",
    "* The **blue**, **NIR**, and **SWIR** (1600 nm) bands.\n",
    "\n",
    "In the following, we start by computing the NDVI."
   ]
  },
  {
   "cell_type": "markdown",
   "id": "53000f22-cba8-48e9-9381-a7e3f8477bcc",
   "metadata": {},
   "source": [
    "## Load and crop the Data\n",
    "\n",
    "For this episode, we will use one of the Sentinel-2 scenes that we have already used the previous episodes."
   ]
  },
  {
   "cell_type": "markdown",
   "id": "ca569331-bdca-447e-be27-e7951bd714ad",
   "metadata": {},
   "source": [
    "Since we want to calculate the NDVI we are going to focus at “red” and “nir”."
   ]
  },
  {
   "cell_type": "markdown",
   "id": "72e1990d",
   "metadata": {},
   "source": [
    "Let’s load the rasters with `open_rasterio` using the argument `masked=True`."
   ]
  },
  {
   "cell_type": "code",
   "execution_count": null,
   "id": "82328151",
   "metadata": {},
   "outputs": [],
   "source": [
    "import rioxarray\n",
    "\n",
    "red = rioxarray.open_rasterio('../data/input_data/sentinel2/red.tif', masked=True, overview_level=1)\n",
    "nir = rioxarray.open_rasterio('../data/input_data/sentinel2/nir.tif', masked=True, overview_level=1)"
   ]
  },
  {
   "cell_type": "markdown",
   "id": "fcb07ee1",
   "metadata": {},
   "source": [
    "Let’s also restrict our analysis to the island of Rhodes - we can extract the bounding box from the vector file written in an earlier episode (note that we need to match the CRS to the one of the raster files):"
   ]
  },
  {
   "cell_type": "code",
   "execution_count": null,
   "id": "5beabc3f-8ba6-40af-9a56-82e776b8c5d8",
   "metadata": {},
   "outputs": [],
   "source": [
    "import geopandas\n",
    "rhodes = geopandas.read_file('../data/output_data/rhodes.gpkg')\n",
    "rhodes_reprojected = rhodes.to_crs(red.rio.crs)\n",
    "bbox = rhodes_reprojected.total_bounds"
   ]
  },
  {
   "cell_type": "code",
   "execution_count": null,
   "id": "735a6bc1",
   "metadata": {},
   "outputs": [],
   "source": [
    "red_clip = red.rio.clip_box(*bbox)\n",
    "nir_clip = nir.rio.clip_box(*bbox)"
   ]
  },
  {
   "cell_type": "markdown",
   "id": "82d300bd",
   "metadata": {},
   "source": [
    "We can now plot the two rasters. Using `robust=True` color values are stretched between the 2nd and 98th percentiles of\n",
    "the data, which results in clearer distinctions between high and low reflectances:"
   ]
  },
  {
   "cell_type": "code",
   "execution_count": null,
   "id": "49e0e42c",
   "metadata": {},
   "outputs": [],
   "source": [
    "red_clip.plot(robust=True)"
   ]
  },
  {
   "cell_type": "code",
   "execution_count": null,
   "id": "4638f2e4",
   "metadata": {},
   "outputs": [],
   "source": [
    "nir_clip.plot(robust=True)"
   ]
  },
  {
   "cell_type": "markdown",
   "id": "3fc41f8f",
   "metadata": {},
   "source": [
    "The burned area is immediately evident as a dark spot in the NIR wavelength, due to the lack of reflection from the vegetation. \n",
    "\n",
    "## Raster Math\n",
    "\n",
    "We can perform raster calculations by subtracting (or adding,\n",
    "multiplying, etc.) two rasters. In the geospatial world, we call this\n",
    "“raster math”, and typically it refers to operations on rasters that\n",
    "have the same width and height (including `nodata` pixels).\n",
    "We can check the shapes of the two rasters in the following way:"
   ]
  },
  {
   "cell_type": "code",
   "execution_count": null,
   "id": "5b7a6256",
   "metadata": {},
   "outputs": [],
   "source": [
    "print(red_clip.shape, nir_clip.shape)"
   ]
  },
  {
   "cell_type": "markdown",
   "id": "773d39ea",
   "metadata": {},
   "source": [
    "The shapes of the two rasters match (and, not shown, the coordinates and the CRSs match too). \n",
    "\n",
    "Let’s now compute the NDVI as a new raster using the formula presented above.\n",
    "We’ll use `rioxarray` objects so that we can easily plot our result and keep\n",
    "track of the metadata."
   ]
  },
  {
   "cell_type": "code",
   "execution_count": null,
   "id": "7c2980ea",
   "metadata": {},
   "outputs": [],
   "source": [
    "ndvi = (nir_clip - red_clip)/ (nir_clip + red_clip)"
   ]
  },
  {
   "cell_type": "markdown",
   "id": "f7eb198e",
   "metadata": {},
   "source": [
    "We can now plot the output NDVI:"
   ]
  },
  {
   "cell_type": "code",
   "execution_count": null,
   "id": "0443cf28",
   "metadata": {},
   "outputs": [],
   "source": [
    "ndvi.plot()"
   ]
  },
  {
   "cell_type": "markdown",
   "id": "4384768f",
   "metadata": {},
   "source": [
    "Notice that the range of values for the output NDVI is between -1 and 1.\n",
    "Does this make sense for the computed value?\n",
    "\n",
    "Maps are great, but it can also be informative to plot histograms of values to better understand the distribution. We can accomplish this using a built-in xarray method we have already been using: `plot.hist()`"
   ]
  },
  {
   "cell_type": "code",
   "execution_count": null,
   "id": "f3f6064f",
   "metadata": {},
   "outputs": [],
   "source": [
    "ndvi.plot.hist()"
   ]
  },
  {
   "cell_type": "markdown",
   "id": "e6399274-bf1a-48b2-9cbe-6294565a538c",
   "metadata": {},
   "source": [
    "We see that most of the values are included in the range 0 to 1, which we can use to limit the plotted range:"
   ]
  },
  {
   "cell_type": "code",
   "execution_count": null,
   "id": "f520d685-a63c-47a9-9b56-215794754f58",
   "metadata": {},
   "outputs": [],
   "source": [
    "ndvi.plot(vmin=0, vmax=1)"
   ]
  },
  {
   "cell_type": "markdown",
   "id": "b862a538",
   "metadata": {},
   "source": [
    "### Exercise: NDWI and custom index to detect burned areas\n",
    "\n",
    "Calculate the other two indices required to compute the burned area classification mask, specifically:\n",
    "\n",
    "* The [normalized difference water index (NDWI)](https://en.wikipedia.org/wiki/Normalized_difference_water_index), derived from the **green** and **NIR** bands (with band ID \"green\" and \"nir\", respectively):\n",
    "$$ NDWI = \\frac{green - NIR}{green + NIR} $$\n",
    "* A custom index derived from the  1600 nm and the 2200 nm **short-wave infrared (SWIR)** bands ( \"swir16\" and \"swir22\", respectively):\n",
    "$$ INDEX = \\frac{SWIR_{16} - SWIR_{22}}{SWIR_{16} + SWIR_{22}}$$\n",
    "\n",
    "What challenge do you foresee in combining the information from all computed indices?\n",
    "\n",
    "\n",
    "\n",
    "https://custom-scripts.sentinel-hub.com/custom-scripts/sentinel-2/burned_area_ms/"
   ]
  },
  {
   "cell_type": "code",
   "execution_count": null,
   "id": "1d172b42-7a47-4e29-9a91-bd1c495ed991",
   "metadata": {},
   "outputs": [],
   "source": [
    "def get_band_and_clip(path, band, bbox, ov_level=1):\n",
    "    band = rioxarray.open_rasterio(path+band, masked=True, overview_level=ov_level)\n",
    "    return band.rio.clip_box(*bbox)"
   ]
  },
  {
   "cell_type": "code",
   "execution_count": null,
   "id": "faff7043-88ee-40e3-92f9-57ed6b258d22",
   "metadata": {},
   "outputs": [],
   "source": [
    "data_path = '../data/input_data/sentinel2/' \n",
    "green_clip = get_band_and_clip(data_path, 'green.tif', bbox)\n",
    "swir16_clip = get_band_and_clip(data_path, 'swir16.tif', bbox, ov_level=0) # Use a higher ov level since this is already low resolution\n",
    "swir22_clip = get_band_and_clip(data_path, 'swir22.tif', bbox, ov_level=0) # Use a higher ov level since this is already low resolution"
   ]
  },
  {
   "cell_type": "code",
   "execution_count": null,
   "id": "253b2b0e-8f59-4eb7-ad34-8245ceb24dd2",
   "metadata": {},
   "outputs": [],
   "source": [
    "ndwi = (green_clip - nir_clip)/(green_clip + nir_clip)\n",
    "index = (swir16_clip - swir22_clip)/(swir16_clip + swir22_clip)"
   ]
  },
  {
   "cell_type": "code",
   "execution_count": null,
   "id": "93186eae-287d-4c77-8d14-db380897c415",
   "metadata": {},
   "outputs": [],
   "source": [
    "ndwi.plot(robust=True)"
   ]
  },
  {
   "cell_type": "code",
   "execution_count": null,
   "id": "1d0574bd-d13d-4c2d-b1db-63f78dbea3a6",
   "metadata": {},
   "outputs": [],
   "source": [
    "index.plot(robust=True)"
   ]
  },
  {
   "cell_type": "markdown",
   "id": "a353e65e-95fe-40e1-8685-7fb622a91954",
   "metadata": {},
   "source": [
    "The challenge in combining the different indices is that the SWIR bands (and thus the derived custom index) have lower resolution:"
   ]
  },
  {
   "cell_type": "code",
   "execution_count": null,
   "id": "2b40fd39-199b-421c-b3a8-46dfae053591",
   "metadata": {},
   "outputs": [],
   "source": [
    "ndvi.rio.resolution(), ndwi.rio.resolution(), index.rio.resolution()"
   ]
  },
  {
   "cell_type": "markdown",
   "id": "d94f458e-260c-4560-8162-f99422aefb82",
   "metadata": {},
   "source": [
    "We solve the issue by using the `reproject_match` method, which reprojects, clips and match the resolution of a raster using another raster as a template. We use the NDVI raster as a template, and match `index` and `swir16` to its resolution and extent: "
   ]
  },
  {
   "cell_type": "code",
   "execution_count": null,
   "id": "5361ce86-39a8-4807-bba6-8aeea89e9eaf",
   "metadata": {},
   "outputs": [],
   "source": [
    "index_match = index.rio.reproject_match(ndvi)\n",
    "swir16_clip_match = swir16_clip.rio.reproject_match(ndvi)"
   ]
  },
  {
   "cell_type": "code",
   "execution_count": null,
   "id": "eddc3b74-c50e-4930-ae19-6d054c99b2f1",
   "metadata": {},
   "outputs": [],
   "source": [
    "index_match.rio.resolution(), swir16_clip_match.rio.resolution()"
   ]
  },
  {
   "cell_type": "markdown",
   "id": "93ed66cb-65fb-4e9c-a2f7-61d672234c5a",
   "metadata": {},
   "source": [
    "Finally, we also fetch the blue band data:"
   ]
  },
  {
   "cell_type": "code",
   "execution_count": null,
   "id": "2e5598b7-6056-4d30-9cec-baadd83a6978",
   "metadata": {},
   "outputs": [],
   "source": [
    "blue_clip = get_band_and_clip(data_path, 'blue.tif', bbox)"
   ]
  },
  {
   "cell_type": "markdown",
   "id": "7a0620e6-045e-4511-aa1a-f38223aa5785",
   "metadata": {},
   "source": [
    "We can now go ahead and compute the binary classification mask for burned areas. Note that we need to convert the unit of the Sentinel-2 bands [from digital numbers to reflectance](https://docs.sentinel-hub.com/api/latest/data/sentinel-2-l2a/#units) (this is achieved by dividing by 10,000):"
   ]
  },
  {
   "cell_type": "code",
   "execution_count": null,
   "id": "ee30166e-f730-4652-ba49-4869e025589f",
   "metadata": {},
   "outputs": [],
   "source": [
    "burned = (\n",
    "    (ndvi <= 0.3) & \n",
    "    (ndwi <= 0.1) &\n",
    "    ((index_match + nir_clip/10_000) <= 0.1) &\n",
    "    ((blue_clip/10_000) <= 0.1) & \n",
    "    ((swir16_clip_match/10_000) >= 0.1)\n",
    ")"
   ]
  },
  {
   "cell_type": "markdown",
   "id": "20d50ddf-bce1-41db-a7b4-eb51a75a3400",
   "metadata": {},
   "source": [
    "The classification mask has a single element along the \"band\" axis, we can drop this dimension in the following way (it makes it easier to work with data with comparable shape (it removes the dummy band in the array): "
   ]
  },
  {
   "cell_type": "code",
   "execution_count": null,
   "id": "4494a7ce-c665-456d-81ca-5aabbda8aa0f",
   "metadata": {},
   "outputs": [],
   "source": [
    "# A method you can perform to get rid of the dummy band it creates; remove dimensions of size 1 from a DataArray or Dataset. The raster image `burned` is a 3D image with a \"band\" dimension.\n",
    "#To create the grid space, we only need the two spatial dimensions. We can used `.squeeze()` to drop the band dimension:\n",
    "burned = burned.squeeze() "
   ]
  },
  {
   "cell_type": "markdown",
   "id": "1e6ce642-550b-42a1-90b3-227b44a633b1",
   "metadata": {},
   "source": [
    "Let's now fetch and visualize the true color image of Rhodes, after coloring the pixels identified as burned area in red:  "
   ]
  },
  {
   "cell_type": "code",
   "execution_count": null,
   "id": "c816f723-03a1-429d-b998-4fbe020aaa26",
   "metadata": {},
   "outputs": [],
   "source": [
    "visual = rioxarray.open_rasterio(data_path+\"visual.tif\", overview_level=1)\n",
    "visual_clip = visual.rio.clip_box(*bbox)"
   ]
  },
  {
   "cell_type": "code",
   "execution_count": null,
   "id": "ee43eb20-ff6c-447a-bd24-a619f86b2eb1",
   "metadata": {},
   "outputs": [],
   "source": [
    "# set red channel to max (255), green and blue channels to min (0).\n",
    "visual_clip[0] = visual_clip[0].where(~burned, 255) #the ~ operator in Python, especially in a NumPy or xarray context, is used for bitwise negation, and it’s often used to invert boolean arrays. ~burned: This is where the magic happens — it inverts the boolean mask.\n",
    "visual_clip[1:3] = visual_clip[1:3].where(~burned, 0)"
   ]
  },
  {
   "cell_type": "code",
   "execution_count": null,
   "id": "ee6e6a74-1be9-4063-b597-ae2352aab2a0",
   "metadata": {},
   "outputs": [],
   "source": [
    "visual_clip.plot.imshow()"
   ]
  },
  {
   "cell_type": "markdown",
   "id": "af28cbd9-20ef-4ff1-8268-7b39511484ed",
   "metadata": {},
   "source": [
    "We can save the burned classification mask to disk after converting booleans to integers:"
   ]
  },
  {
   "cell_type": "code",
   "execution_count": null,
   "id": "7fc3776c-c44d-41ed-9745-27441be0b123",
   "metadata": {},
   "outputs": [],
   "source": [
    "burned.rio.to_raster('../data/output_data/burned.tif', dtype='int8')"
   ]
  }
 ],
 "metadata": {
  "jupytext": {
   "main_language": "python"
  },
  "kernelspec": {
   "display_name": "geospatial",
   "language": "python",
   "name": "python3"
  },
  "language_info": {
   "codemirror_mode": {
    "name": "ipython",
    "version": 3
   },
   "file_extension": ".py",
   "mimetype": "text/x-python",
   "name": "python",
   "nbconvert_exporter": "python",
   "pygments_lexer": "ipython3",
   "version": "3.10.13"
  }
 },
 "nbformat": 4,
 "nbformat_minor": 5
}
