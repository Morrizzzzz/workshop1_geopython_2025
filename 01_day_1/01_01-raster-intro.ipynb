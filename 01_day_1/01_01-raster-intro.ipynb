{
 "cells": [
  {
   "cell_type": "markdown",
   "id": "e20c86e8",
   "metadata": {},
   "source": [
    "This notebook is based on: https://esciencecenter-digital-skills.github.io/geospatial-python/06-raster-intro.html"
   ]
  },
  {
   "cell_type": "code",
   "execution_count": null,
   "id": "c2283b8d",
   "metadata": {},
   "outputs": [],
   "source": [
    "import rioxarray\n"
   ]
  },
  {
   "cell_type": "markdown",
   "id": "16327b37",
   "metadata": {},
   "source": [
    "Explain relationship rioxarray xarray rastterio pyproj and numpy"
   ]
  },
  {
   "cell_type": "code",
   "execution_count": null,
   "id": "219c0a38",
   "metadata": {},
   "outputs": [],
   "source": [
    "!pip show rioxarray"
   ]
  },
  {
   "cell_type": "code",
   "execution_count": null,
   "id": "e3967eff",
   "metadata": {},
   "outputs": [],
   "source": [
    "rioxarray.open_rasterio?"
   ]
  },
  {
   "cell_type": "code",
   "execution_count": null,
   "id": "157aaabd",
   "metadata": {},
   "outputs": [],
   "source": [
    "red = rioxarray.open_rasterio('../data/input_data/sentinel2/red.tif')"
   ]
  },
  {
   "cell_type": "code",
   "execution_count": null,
   "id": "917eb250-3336-4267-8627-3086e1c77e95",
   "metadata": {},
   "outputs": [],
   "source": [
    "red"
   ]
  },
  {
   "cell_type": "code",
   "execution_count": null,
   "id": "40003414-76d8-429d-8216-8216c0820ea1",
   "metadata": {},
   "outputs": [],
   "source": [
    "red.values"
   ]
  },
  {
   "cell_type": "code",
   "execution_count": null,
   "id": "4799758a",
   "metadata": {},
   "outputs": [],
   "source": [
    "print(red.max())\n",
    "print(red.min())"
   ]
  },
  {
   "cell_type": "code",
   "execution_count": null,
   "id": "991c45d5-cdc2-4f6b-b9cc-c0eafae6b031",
   "metadata": {},
   "outputs": [],
   "source": [
    "print(red.rio.crs)"
   ]
  },
  {
   "cell_type": "code",
   "execution_count": null,
   "id": "9330966b",
   "metadata": {},
   "outputs": [],
   "source": [
    "red.plot()"
   ]
  },
  {
   "cell_type": "code",
   "execution_count": null,
   "id": "e8e2992e-7622-46e1-8fa4-628dfca39a3b",
   "metadata": {},
   "outputs": [],
   "source": [
    "red_lowres = rioxarray.open_rasterio('../data/input_data/sentinel2/red.tif', overview_level=2)"
   ]
  },
  {
   "cell_type": "code",
   "execution_count": null,
   "id": "a6079969-3279-4688-b6d9-47ad62fbeefd",
   "metadata": {},
   "outputs": [],
   "source": [
    "red_lowres"
   ]
  },
  {
   "cell_type": "code",
   "execution_count": null,
   "id": "add50b14",
   "metadata": {},
   "outputs": [],
   "source": [
    "red_lowres.plot()"
   ]
  },
  {
   "cell_type": "code",
   "execution_count": null,
   "id": "f6c7e13a-c403-4d92-91c8-1c84bd857b1b",
   "metadata": {},
   "outputs": [],
   "source": [
    "red_lowres.plot(robust=True)"
   ]
  },
  {
   "cell_type": "markdown",
   "id": "298a2f57",
   "metadata": {},
   "source": [
    "## View Raster Coordinate Reference System (CRS) in Python"
   ]
  },
  {
   "cell_type": "code",
   "execution_count": null,
   "id": "4537eb58",
   "metadata": {},
   "outputs": [],
   "source": [
    "red.rio.crs"
   ]
  },
  {
   "cell_type": "code",
   "execution_count": null,
   "id": "78e4ee8b",
   "metadata": {},
   "outputs": [],
   "source": [
    "epsg = red.rio.crs.to_epsg()\n",
    "epsg "
   ]
  },
  {
   "cell_type": "code",
   "execution_count": null,
   "id": "30a29413",
   "metadata": {},
   "outputs": [],
   "source": [
    "from pyproj import CRS\n",
    "crs = CRS(epsg)\n",
    "crs"
   ]
  },
  {
   "cell_type": "markdown",
   "id": "1c141ce1",
   "metadata": {},
   "source": [
    "## Dealing with Missing Data"
   ]
  },
  {
   "cell_type": "code",
   "execution_count": null,
   "id": "e4209f4e",
   "metadata": {},
   "outputs": [],
   "source": [
    "red_nodata = rioxarray.open_rasterio('../data/input_data/sentinel2/red.tif', masked=True, overview_level=2)"
   ]
  },
  {
   "cell_type": "code",
   "execution_count": null,
   "id": "584618a6-cdf2-4fdb-ac5b-fab4bb6fa795",
   "metadata": {},
   "outputs": [],
   "source": [
    "red_nodata"
   ]
  },
  {
   "cell_type": "code",
   "execution_count": null,
   "id": "d195d873",
   "metadata": {},
   "outputs": [],
   "source": [
    "red_lowres.where(red_lowres != red_lowres.rio.nodata)"
   ]
  },
  {
   "cell_type": "code",
   "execution_count": null,
   "id": "72f3c639-d41c-4010-95d5-f1d5787d193d",
   "metadata": {},
   "outputs": [],
   "source": [
    "red_nodata.plot(robust=True)"
   ]
  },
  {
   "cell_type": "markdown",
   "id": "79bddc3c",
   "metadata": {},
   "source": [
    "## Raster Bands"
   ]
  },
  {
   "cell_type": "code",
   "execution_count": null,
   "id": "236c6a79",
   "metadata": {},
   "outputs": [],
   "source": [
    "visual_lowres = rioxarray.open_rasterio('../data/input_data/sentinel2/visual.tif', overview_level=2)\n",
    "visual_lowres"
   ]
  },
  {
   "cell_type": "code",
   "execution_count": null,
   "id": "25f4f96f",
   "metadata": {},
   "outputs": [],
   "source": [
    "visual_lowres.shape"
   ]
  },
  {
   "cell_type": "code",
   "execution_count": null,
   "id": "1fc81234",
   "metadata": {},
   "outputs": [],
   "source": [
    "visual_lowres.plot()"
   ]
  },
  {
   "cell_type": "code",
   "execution_count": null,
   "id": "cdcf3774-3d25-42c9-9e7b-64608cf74eb4",
   "metadata": {},
   "outputs": [],
   "source": [
    "visual_lowres.plot.imshow()"
   ]
  }
 ],
 "metadata": {
  "jupytext": {
   "main_language": "python"
  },
  "kernelspec": {
   "display_name": "geospatial",
   "language": "python",
   "name": "python3"
  },
  "language_info": {
   "codemirror_mode": {
    "name": "ipython",
    "version": 3
   },
   "file_extension": ".py",
   "mimetype": "text/x-python",
   "name": "python",
   "nbconvert_exporter": "python",
   "pygments_lexer": "ipython3",
   "version": "3.10.13"
  }
 },
 "nbformat": 4,
 "nbformat_minor": 5
}
