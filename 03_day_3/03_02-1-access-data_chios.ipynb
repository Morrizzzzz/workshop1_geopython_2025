{
 "cells": [
  {
   "cell_type": "markdown",
   "id": "414f17bb-a0c3-4e8e-8731-9ff7f9212cbe",
   "metadata": {},
   "source": [
    "## Search a STAC catalog"
   ]
  },
  {
   "cell_type": "markdown",
   "id": "3449a70f",
   "metadata": {},
   "source": [
    "Forsest fire reported on Chios (23-06-2025; last week!)\n",
    "\n",
    "https://www.reuters.com/business/environment/hundreds-firefighters-battle-wildfires-greeces-chios-island-third-day-2025-06-24/\n"
   ]
  },
  {
   "cell_type": "code",
   "execution_count": null,
   "id": "d97fb268-995e-441d-b13f-da2daad8953d",
   "metadata": {},
   "outputs": [],
   "source": [
    "api_url = 'https://earth-search.aws.element84.com/v1'"
   ]
  },
  {
   "cell_type": "code",
   "execution_count": null,
   "id": "f82c3a1e",
   "metadata": {},
   "outputs": [],
   "source": [
    "from pystac_client import Client\n",
    "\n",
    "client = Client.open(api_url)"
   ]
  },
  {
   "cell_type": "code",
   "execution_count": null,
   "id": "8b2ac22a",
   "metadata": {},
   "outputs": [],
   "source": [
    "collection = 'sentinel-2-l2a'  # Sentinel-2, Level 2A"
   ]
  },
  {
   "cell_type": "code",
   "execution_count": null,
   "id": "58354d57",
   "metadata": {},
   "outputs": [],
   "source": [
    "from shapely.geometry import Point\n",
    "point = Point(26.04, 38.42)  # Chios https://www.latlong.net/"
   ]
  },
  {
   "cell_type": "code",
   "execution_count": null,
   "id": "5cc0cd94-cf37-4c26-87ad-be56d70aaeb3",
   "metadata": {},
   "outputs": [],
   "source": [
    "search = client.search(\n",
    "    collections=[collection],\n",
    "    intersects=point,\n",
    ")"
   ]
  },
  {
   "cell_type": "code",
   "execution_count": null,
   "id": "4dcb946d-4329-42ef-b632-c7d38dcfc105",
   "metadata": {},
   "outputs": [],
   "source": [
    "search.matched()"
   ]
  },
  {
   "cell_type": "markdown",
   "id": "ef943104-e872-4d81-8d21-ab2fb18922d5",
   "metadata": {},
   "source": [
    "### Exercise: searching satellite scenes with a time filter\n",
    "\n",
    "Add a time filter to the search in order to select the only scenes recorded between 1 July and 31 August. You can find the input argument and the required syntax in the documentation of `client.search` (which you can access from Python or [online](https://pystac-client.readthedocs.io/en/stable/api.html#pystac_client.Client.search)). How many scenes do now match our search?"
   ]
  },
  {
   "cell_type": "code",
   "execution_count": null,
   "id": "293df427-4f0b-4e33-9d75-533a5a4f8eaf",
   "metadata": {},
   "outputs": [],
   "source": [
    "search = client.search(\n",
    "    collections=[collection],\n",
    "    intersects=point,\n",
    "    datetime='2025-06-22/2025-06-25',\n",
    ")"
   ]
  },
  {
   "cell_type": "code",
   "execution_count": null,
   "id": "69356d0d-7b2f-405d-9908-747bd5ab408c",
   "metadata": {},
   "outputs": [],
   "source": [
    "search.matched()"
   ]
  },
  {
   "cell_type": "code",
   "execution_count": null,
   "id": "fedfeec5-ace8-4e9c-be49-822aea682543",
   "metadata": {},
   "outputs": [],
   "source": [
    "items = search.item_collection()"
   ]
  },
  {
   "cell_type": "code",
   "execution_count": null,
   "id": "3b0b3db0-eaa1-4c1d-9151-d72f6c925542",
   "metadata": {},
   "outputs": [],
   "source": [
    "len(items)"
   ]
  },
  {
   "cell_type": "code",
   "execution_count": null,
   "id": "4096ce56-2965-4789-ba7c-60001bad18fe",
   "metadata": {},
   "outputs": [],
   "source": [
    "for item in items:\n",
    "    print(item)"
   ]
  },
  {
   "cell_type": "code",
   "execution_count": null,
   "id": "7c4a89fa-0238-4d94-8309-808c19c3c55b",
   "metadata": {},
   "outputs": [],
   "source": [
    "item = items[-1]\n",
    "print(item.datetime)\n",
    "print(item.geometry)\n",
    "print(item.properties)"
   ]
  },
  {
   "cell_type": "code",
   "execution_count": null,
   "id": "1ba72072-9ee2-476c-ae81-d455128f65dd",
   "metadata": {},
   "outputs": [],
   "source": [
    "items.save_object('../data/output_data/chios_sentinel-2.json')"
   ]
  },
  {
   "cell_type": "markdown",
   "id": "37a9fe0f-4438-4156-9422-4a24c04cd8ef",
   "metadata": {},
   "source": [
    "## Access the assets"
   ]
  },
  {
   "cell_type": "code",
   "execution_count": null,
   "id": "0e2c5a4b-9075-491c-ab96-489a78774704",
   "metadata": {},
   "outputs": [],
   "source": [
    "assets = items[0].assets  # first item's asset dictionary [0 is burned 1 is before the fire]\n",
    "print(assets.keys())"
   ]
  },
  {
   "cell_type": "code",
   "execution_count": null,
   "id": "da733b04-d010-46cc-915f-daad27eaa7b9",
   "metadata": {},
   "outputs": [],
   "source": [
    "for key, asset in assets.items():\n",
    "    print(f\"{key}: {asset.title}\")"
   ]
  },
  {
   "cell_type": "code",
   "execution_count": null,
   "id": "5c722822-5d50-4747-8a60-c2031458caeb",
   "metadata": {},
   "outputs": [],
   "source": [
    "assets[\"thumbnail\"].href"
   ]
  },
  {
   "cell_type": "code",
   "execution_count": null,
   "id": "6b2a1450-67fb-403e-80c2-fb225d7e68f7",
   "metadata": {},
   "outputs": [],
   "source": [
    "items[-1].assets['thumbnail'].href"
   ]
  },
  {
   "cell_type": "code",
   "execution_count": null,
   "id": "8dc8a910-db27-4b9b-a0c9-2b0b9693c2e9",
   "metadata": {},
   "outputs": [],
   "source": [
    "import rioxarray\n",
    "\n",
    "visual_href = assets['visual'].href\n",
    "visual = rioxarray.open_rasterio(visual_href)\n",
    "visual.rio.to_raster('../data/output_data/chios_visual.tif', driver='COG')"
   ]
  },
  {
   "cell_type": "code",
   "execution_count": null,
   "id": "5d9af96c",
   "metadata": {},
   "outputs": [],
   "source": [
    "visual_lowres = rioxarray.open_rasterio('../data/output_data/chios_visual.tif', overview_level=2)\n",
    "visual_lowres"
   ]
  },
  {
   "cell_type": "code",
   "execution_count": null,
   "id": "603b0e98",
   "metadata": {},
   "outputs": [],
   "source": [
    "visual_lowres.plot.imshow()"
   ]
  },
  {
   "cell_type": "code",
   "execution_count": null,
   "id": "d10056ba",
   "metadata": {},
   "outputs": [],
   "source": [
    "import matplotlib.pyplot as plt\n",
    "\n",
    "# Set figure size before calling plot\n",
    "plt.figure(figsize=(12, 10))  # width, height in inches\n",
    "\n",
    "visual_lowres.plot.imshow()\n",
    "\n",
    "plt.show()"
   ]
  }
 ],
 "metadata": {
  "jupytext": {
   "main_language": "python"
  },
  "kernelspec": {
   "display_name": "geospatial",
   "language": "python",
   "name": "python3"
  },
  "language_info": {
   "codemirror_mode": {
    "name": "ipython",
    "version": 3
   },
   "file_extension": ".py",
   "mimetype": "text/x-python",
   "name": "python",
   "nbconvert_exporter": "python",
   "pygments_lexer": "ipython3",
   "version": "3.10.13"
  }
 },
 "nbformat": 4,
 "nbformat_minor": 5
}
