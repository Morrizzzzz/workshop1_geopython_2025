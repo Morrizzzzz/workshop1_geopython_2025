{
 "cells": [
  {
   "cell_type": "markdown",
   "id": "e20c86e8",
   "metadata": {},
   "source": [
    "This notebook is based on: https://esciencecenter-digital-skills.github.io/geospatial-python/06-raster-intro.html"
   ]
  },
  {
   "cell_type": "markdown",
   "id": "b3ae34d6",
   "metadata": {},
   "source": [
    "In the first episode of this course we provided an introduction on what Raster datasets are and how these divert from vector data. In this episode we will dive more into raster data and focus on how to work with them. We introduce fundamental principles, python packages, metadata and raster attributes for working with this type of data. In addition, we will explore how Python handles missing and bad data values.\n",
    "\n",
    "The Python package we will use throughout this episode to handle raster data is rioxarray. This package is based on the popular rasterio (which is build upon the GDAL library) for working with raster data and xarray for working with multi-dimensional arrays.\n",
    "\n",
    "rioxarray extends xarray by providing top-level functions like the open_rasterio function to open raster datasets. Furthermore, it adds a set of methods to the main objects of the xarray package like the Dataset and the DataArray. These methods are made available via the rio accessor and become available from xarray objects after importing rioxarray."
   ]
  },
  {
   "cell_type": "markdown",
   "id": "cb4e7f4f",
   "metadata": {},
   "source": [
    "# Load a Raster and View Attributes\n",
    "\n",
    "To analyse the burned areas, we are interested in the red band of the satellite scene. In episode 9 we will further explain why the characteristics of that band are interesting in relation to wildfires. For now, we can load the red band using the function rioxarray.open_rasterio():"
   ]
  },
  {
   "cell_type": "code",
   "execution_count": null,
   "id": "c2283b8d",
   "metadata": {},
   "outputs": [],
   "source": [
    "import rioxarray\n"
   ]
  },
  {
   "cell_type": "markdown",
   "id": "16327b37",
   "metadata": {},
   "source": [
    "Explain relationship rioxarray xarray rastterio pyproj and numpy"
   ]
  },
  {
   "cell_type": "code",
   "execution_count": null,
   "id": "219c0a38",
   "metadata": {},
   "outputs": [],
   "source": [
    "!pip show rioxarray"
   ]
  },
  {
   "cell_type": "code",
   "execution_count": null,
   "id": "e3967eff",
   "metadata": {},
   "outputs": [],
   "source": [
    "rioxarray.open_rasterio?"
   ]
  },
  {
   "cell_type": "code",
   "execution_count": null,
   "id": "157aaabd",
   "metadata": {},
   "outputs": [],
   "source": [
    "red = rioxarray.open_rasterio('../data/input_data/sentinel2/red.tif')"
   ]
  },
  {
   "cell_type": "code",
   "execution_count": null,
   "id": "917eb250-3336-4267-8627-3086e1c77e95",
   "metadata": {},
   "outputs": [],
   "source": [
    "red"
   ]
  },
  {
   "cell_type": "markdown",
   "id": "3b28b1af",
   "metadata": {},
   "source": [
    "By printing the variable we can get a quick look at the shape and attributes of the data."
   ]
  },
  {
   "cell_type": "code",
   "execution_count": null,
   "id": "63d50895",
   "metadata": {},
   "outputs": [],
   "source": [
    "print(red)"
   ]
  },
  {
   "cell_type": "markdown",
   "id": "4b0150fd",
   "metadata": {},
   "source": [
    "The output tells us that we are looking at an xarray.DataArray, with 1 band, 10980 rows, and 10980 columns. We can also see the number of pixel values in the DataArray, and the type of those pixel values, which is unsigned integer (or uint16). The DataArray also stores different values for the coordinates of the DataArray. When using rioxarray, the term coordinates refers to spatial coordinates like x and y but also the band coordinate. Each of these sequences of values has its own data type, like float64 for the spatial coordinates and int64 for the band coordinate.\n",
    "\n",
    "This DataArray object also has a couple of attributes that are accessed like .rio.crs, .rio.nodata, and .rio.bounds() (in jupyter you can browse through these attributes by using tab for auto completion or have a look at the documentation here), which contains the metadata for the file we opened. Note that many of the metadata are accessed as attributes without (), however since bounds() is a method (i.e. a function in an object) it requires these parentheses this is also the case for .rio.resolution()."
   ]
  },
  {
   "cell_type": "code",
   "execution_count": null,
   "id": "5de55015",
   "metadata": {},
   "outputs": [],
   "source": [
    "print(red.rio.crs)\n",
    "print(red.rio.nodata)\n",
    "print(red.rio.bounds())\n",
    "print(red.rio.width)\n",
    "print(red.rio.height)\n",
    "print(red.rio.resolution())"
   ]
  },
  {
   "cell_type": "code",
   "execution_count": null,
   "id": "4799758a",
   "metadata": {},
   "outputs": [],
   "source": [
    "print(red.max())\n",
    "print(red.min())"
   ]
  },
  {
   "cell_type": "code",
   "execution_count": null,
   "id": "991c45d5-cdc2-4f6b-b9cc-c0eafae6b031",
   "metadata": {},
   "outputs": [],
   "source": [
    "print(red.rio.crs)"
   ]
  },
  {
   "cell_type": "markdown",
   "id": "856abdb4",
   "metadata": {},
   "source": [
    "The Coordinate Reference System, or rhodes_red.rio.crs, is reported as the string EPSG:32635. The nodata value is encoded as 0 and the bounding box corners of our raster are represented by the output of .bounds() as a tuple (like a list but you can’t edit it). The height and width match what we saw when we printed the DataArray, but by using .rio.width and .rio.height we can access these values if we need them in calculations."
   ]
  },
  {
   "cell_type": "markdown",
   "id": "5b7543cf",
   "metadata": {},
   "source": [
    "Visualize a Raster\n",
    "\n",
    "After viewing the attributes of our raster, we can examine the raw values of the array with .values:"
   ]
  },
  {
   "cell_type": "code",
   "execution_count": null,
   "id": "40003414-76d8-429d-8216-8216c0820ea1",
   "metadata": {},
   "outputs": [],
   "source": [
    "red.values"
   ]
  },
  {
   "cell_type": "markdown",
   "id": "a9c0dca1",
   "metadata": {},
   "source": [
    "This can give us a quick view of the values of our array, but only at the corners. Since our raster is loaded in python as a DataArray type, we can plot this in one line similar to a pandas DataFrame with DataArray.plot()."
   ]
  },
  {
   "cell_type": "code",
   "execution_count": null,
   "id": "9330966b",
   "metadata": {},
   "outputs": [],
   "source": [
    "red.plot()"
   ]
  },
  {
   "cell_type": "markdown",
   "id": "98a81ed4",
   "metadata": {},
   "source": [
    "Resampling the raster image\n",
    "\n",
    "The red band image is available as a raster file with 10 m resolution, which makes it a relatively large file (few hundreds MBs). In order to keep calculations “manageable” (reasonable execution time and memory usage) we select here a lower resolution version of the image, taking advantage of the so-called “pyramidal” structure of cloud-optimized GeoTIFFs (COGs). COGs, in fact, typically include multiple lower-resolution versions of the original image, called “overviews”, in the same file. This allows us to avoid downloading high-resolution images when only quick previews are required.\n",
    "\n",
    "Overviews are often computed using powers of 2 as down-sampling (or zoom) factors. So, typically, the first level overview (index 0) corresponds to a zoom factor of 2, the second level overview (index 1) corresponds to a zoom factor of 4, and so on. Here, we open the third level overview (index 2, zoom factor 8) and check that the resolution is about 80 m:"
   ]
  },
  {
   "cell_type": "code",
   "execution_count": null,
   "id": "e8e2992e-7622-46e1-8fa4-628dfca39a3b",
   "metadata": {},
   "outputs": [],
   "source": [
    "red_lowres = rioxarray.open_rasterio('../data/input_data/sentinel2/red.tif', overview_level=2)"
   ]
  },
  {
   "cell_type": "code",
   "execution_count": null,
   "id": "a6079969-3279-4688-b6d9-47ad62fbeefd",
   "metadata": {},
   "outputs": [],
   "source": [
    "red_lowres"
   ]
  },
  {
   "cell_type": "code",
   "execution_count": null,
   "id": "add50b14",
   "metadata": {},
   "outputs": [],
   "source": [
    "red_lowres.plot()"
   ]
  },
  {
   "cell_type": "markdown",
   "id": "89452a0f",
   "metadata": {},
   "source": [
    "This plot shows the satellite measurement of the band red for Rhodes before the wildfire. According to the Sentinel-2 documentaion, this is a band with the central wavelength of 665nm. It has a spatial resolution of 10m. Note that the band=1 in the image title refers to the ordering of all the bands in the DataArray, not the Sentinel-2 band number 04 that we saw in the pystac search results."
   ]
  },
  {
   "cell_type": "code",
   "execution_count": null,
   "id": "bbfcaa61",
   "metadata": {},
   "outputs": [],
   "source": [
    "red_lowres.plot(vmin=100, vmax=2000)"
   ]
  },
  {
   "cell_type": "markdown",
   "id": "9558688d",
   "metadata": {},
   "source": [
    "More options can be consulted here. You will notice that these parameters are part of the imshow method from the plot function. Since plot originates from matplotlib and is so widely used, your python environment helps you to interpret the parameters without having to specify the method. It is a service to help you, but can be confusing when teaching it. We will explain more about this below."
   ]
  },
  {
   "cell_type": "code",
   "execution_count": null,
   "id": "f6c7e13a-c403-4d92-91c8-1c84bd857b1b",
   "metadata": {},
   "outputs": [],
   "source": [
    "red_lowres.plot(robust=True)"
   ]
  },
  {
   "cell_type": "markdown",
   "id": "298a2f57",
   "metadata": {},
   "source": [
    "## View Raster Coordinate Reference System (CRS) in Python"
   ]
  },
  {
   "cell_type": "markdown",
   "id": "f3745fbf",
   "metadata": {},
   "source": [
    "Another information that we’re interested in is the CRS, and it can be accessed with .rio.crs. We introduced the concept of a CRS in an earlier episode. Now we will see how features of the CRS appear in our data file and what meanings they have. We can view the CRS string associated with our DataArray’s rio object using the crs attribute."
   ]
  },
  {
   "cell_type": "code",
   "execution_count": null,
   "id": "4537eb58",
   "metadata": {},
   "outputs": [],
   "source": [
    "red.rio.crs"
   ]
  },
  {
   "cell_type": "markdown",
   "id": "898547c6",
   "metadata": {},
   "source": [
    "To print the EPSG code number as an int, we use the .to_epsg() method (which originally is part of rasterio to_epsg):"
   ]
  },
  {
   "cell_type": "code",
   "execution_count": null,
   "id": "78e4ee8b",
   "metadata": {},
   "outputs": [],
   "source": [
    "epsg = red.rio.crs.to_epsg()\n",
    "epsg "
   ]
  },
  {
   "cell_type": "markdown",
   "id": "d845fcb5",
   "metadata": {},
   "source": [
    "EPSG codes are great for succinctly representing a particular coordinate reference system. But what if we want to see more details about the CRS, like the units? For that, we can use pyproj , a library for representing and working with coordinate reference systems."
   ]
  },
  {
   "cell_type": "code",
   "execution_count": null,
   "id": "30a29413",
   "metadata": {},
   "outputs": [],
   "source": [
    "from pyproj import CRS\n",
    "crs = CRS(epsg)\n",
    "crs"
   ]
  },
  {
   "cell_type": "markdown",
   "id": "c91660ed",
   "metadata": {},
   "source": [
    "The CRS class from the pyproj library allows us to create a CRS object with methods and attributes for accessing specific information about a CRS, or the detailed summary shown above.\n",
    "\n",
    "A particularly useful attribute is area_of_use, which shows the geographic bounds that the CRS is intended to be used."
   ]
  },
  {
   "cell_type": "code",
   "execution_count": null,
   "id": "174f3aa9",
   "metadata": {},
   "outputs": [],
   "source": [
    "crs.area_of_use"
   ]
  },
  {
   "cell_type": "markdown",
   "id": "1c141ce1",
   "metadata": {},
   "source": [
    "## Dealing with Missing Data\n",
    "\n",
    "So far, we have visualized a band of a Sentinel-2 scene and calculated its statistics. However, as you can see on the image it also contains an artificial band to the top left where data is missing. In order to calculate meaningfull statistics, we need to take missing data into account. Raster data often has a “no data value” associated with it and for raster datasets read in by rioxarray. This value is referred to as nodata. This is a value assigned to pixels where data is missing or no data were collected. There can be different cases that cause missing data, and it’s common for other values in a raster to represent different cases. The most common example is missing data at the edges of rasters.\n",
    "\n",
    "By default the shape of a raster is always rectangular. So if we have a dataset that has a shape that isn’t rectangular, like most satellite images, some pixels at the edge of the raster will have no data values. This often happens when the data were collected by a sensor which only flew over some part of a defined region and is also almost by default because of the fact that the earth is not flat and that we work with geographic and projected coordinate system.\n",
    "\n",
    "To check the value of nodata of this dataset you can use:"
   ]
  },
  {
   "cell_type": "code",
   "execution_count": null,
   "id": "bcf4b6db",
   "metadata": {},
   "outputs": [],
   "source": [
    "red.rio.nodata"
   ]
  },
  {
   "cell_type": "markdown",
   "id": "478e9757",
   "metadata": {},
   "source": [
    "You will find out that this is 0. When we have plotted the band data, or calculated statistics, the missing value was not distinguished from other values. Missing data may cause some unexpected results.\n",
    "\n",
    "To distinguish missing data from real data, one possible way is to use nan(which stands for Not a Number) to represent them. This can be done by specifying masked=True when loading the raster. Let us reload our data and put it into a different variable with the mask:"
   ]
  },
  {
   "cell_type": "code",
   "execution_count": null,
   "id": "e4209f4e",
   "metadata": {},
   "outputs": [],
   "source": [
    "red_nodata = rioxarray.open_rasterio('../data/input_data/sentinel2/red.tif', masked=True, overview_level=2)"
   ]
  },
  {
   "cell_type": "code",
   "execution_count": null,
   "id": "584618a6-cdf2-4fdb-ac5b-fab4bb6fa795",
   "metadata": {},
   "outputs": [],
   "source": [
    "print(red_nodata)"
   ]
  },
  {
   "cell_type": "code",
   "execution_count": null,
   "id": "d195d873",
   "metadata": {},
   "outputs": [],
   "source": [
    "red_lowres.where(red_lowres != red_lowres.rio.nodata)"
   ]
  },
  {
   "cell_type": "markdown",
   "id": "45c17e7c",
   "metadata": {},
   "source": [
    "Either way will change the nodata value from 0 to nan. Now if we compute the statistics again, the missing data will not be considered. Let´s compare them:"
   ]
  },
  {
   "cell_type": "code",
   "execution_count": null,
   "id": "cd3d6ef8",
   "metadata": {},
   "outputs": [],
   "source": [
    "print(red_lowres.min())\n",
    "print(red_nodata.min())\n",
    "print(red_lowres.max())\n",
    "print(red_nodata.max())\n",
    "print(red_lowres.mean())\n",
    "print(red_nodata.mean())\n",
    "print(red_lowres.std())\n",
    "print(red_nodata.std())"
   ]
  },
  {
   "cell_type": "markdown",
   "id": "68da530e",
   "metadata": {},
   "source": [
    "And if we plot the image, the nodata pixels are not shown because they are not 0 anymore:"
   ]
  },
  {
   "cell_type": "code",
   "execution_count": null,
   "id": "72f3c639-d41c-4010-95d5-f1d5787d193d",
   "metadata": {},
   "outputs": [],
   "source": [
    "red_nodata.plot(robust=True)"
   ]
  },
  {
   "cell_type": "markdown",
   "id": "845daaa0",
   "metadata": {},
   "source": [
    "One should notice that there is a side effect of using nan instead of 0 to represent the missing data: the data type of the DataArray was changed from integers to float (as can be seen when we printed the statistics). This needs to be taken into consideration when the data type matters in your application."
   ]
  },
  {
   "cell_type": "markdown",
   "id": "79bddc3c",
   "metadata": {},
   "source": [
    "## Raster Bands"
   ]
  },
  {
   "cell_type": "markdown",
   "id": "934b5c8b",
   "metadata": {},
   "source": [
    "So far we looked into a single band raster, i.e. the red band of a Sentinel-2 scene. However, for certain applications it is helpful to visualize the true-color image of the region. This is provided as a multi-band raster – a raster dataset that contains more than one band."
   ]
  },
  {
   "cell_type": "markdown",
   "id": "56af4061",
   "metadata": {},
   "source": [
    "The visual asset in the Sentinel-2 scene is a multiband asset. Similar to the red band, we can load it by:"
   ]
  },
  {
   "cell_type": "code",
   "execution_count": null,
   "id": "236c6a79",
   "metadata": {},
   "outputs": [],
   "source": [
    "visual_lowres = rioxarray.open_rasterio('../data/input_data/sentinel2/visual.tif', overview_level=2)\n",
    "visual_lowres"
   ]
  },
  {
   "cell_type": "markdown",
   "id": "316c1983",
   "metadata": {},
   "source": [
    "The band number comes first when GeoTiffs are read with the .open_rasterio() function. As we can see in the xarray.DataArray object, the shape is now (band: 3, y: 1373, x: 1373), with three bands in the band dimension. It’s always a good idea to examine the shape of the raster array you are working with and make sure it’s what you expect. Many functions, especially the ones that plot images, expect a raster array to have a particular shape. One can also check the shape using the .shape attribute:"
   ]
  },
  {
   "cell_type": "code",
   "execution_count": null,
   "id": "25f4f96f",
   "metadata": {},
   "outputs": [],
   "source": [
    "visual_lowres.shape"
   ]
  },
  {
   "cell_type": "code",
   "execution_count": null,
   "id": "1fc81234",
   "metadata": {},
   "outputs": [],
   "source": [
    "visual_lowres.plot()"
   ]
  },
  {
   "cell_type": "markdown",
   "id": "3cdccf01",
   "metadata": {},
   "source": [
    "One can visualize the multi-band data with the DataArray.plot.imshow() function:"
   ]
  },
  {
   "cell_type": "code",
   "execution_count": null,
   "id": "cdcf3774-3d25-42c9-9e7b-64608cf74eb4",
   "metadata": {},
   "outputs": [],
   "source": [
    "visual_lowres.plot.imshow()"
   ]
  },
  {
   "cell_type": "markdown",
   "id": "72c7518d",
   "metadata": {},
   "source": [
    "Note that the DataArray.plot.imshow() function makes assumptions about the shape of the input DataArray, that since it has three channels, the correct colormap for these channels is RGB. It does not work directly on image arrays with more than 3 channels. One can replace one of the RGB channels with another band, to make a false-color image."
   ]
  }
 ],
 "metadata": {
  "jupytext": {
   "main_language": "python"
  },
  "kernelspec": {
   "display_name": "geospatial",
   "language": "python",
   "name": "python3"
  },
  "language_info": {
   "codemirror_mode": {
    "name": "ipython",
    "version": 3
   },
   "file_extension": ".py",
   "mimetype": "text/x-python",
   "name": "python",
   "nbconvert_exporter": "python",
   "pygments_lexer": "ipython3",
   "version": "3.10.13"
  }
 },
 "nbformat": 4,
 "nbformat_minor": 5
}
